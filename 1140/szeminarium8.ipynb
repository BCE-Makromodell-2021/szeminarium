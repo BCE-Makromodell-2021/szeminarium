{
 "cells": [
  {
   "cell_type": "code",
   "execution_count": 1,
   "id": "59432148",
   "metadata": {},
   "outputs": [],
   "source": [
    "import math"
   ]
  },
  {
   "cell_type": "code",
   "execution_count": 2,
   "id": "06a91081",
   "metadata": {},
   "outputs": [
    {
     "data": {
      "text/plain": [
       "3.141592653589793"
      ]
     },
     "execution_count": 2,
     "metadata": {},
     "output_type": "execute_result"
    }
   ],
   "source": [
    "math.pi"
   ]
  },
  {
   "cell_type": "code",
   "execution_count": 3,
   "id": "22afea1a",
   "metadata": {},
   "outputs": [
    {
     "data": {
      "text/plain": [
       "2.718281828459045"
      ]
     },
     "execution_count": 3,
     "metadata": {},
     "output_type": "execute_result"
    }
   ],
   "source": [
    "math.e"
   ]
  },
  {
   "cell_type": "code",
   "execution_count": 4,
   "id": "8d928931",
   "metadata": {},
   "outputs": [],
   "source": [
    "from math import pi"
   ]
  },
  {
   "cell_type": "code",
   "execution_count": 5,
   "id": "0af88d03",
   "metadata": {},
   "outputs": [
    {
     "data": {
      "text/plain": [
       "3.141592653589793"
      ]
     },
     "execution_count": 5,
     "metadata": {},
     "output_type": "execute_result"
    }
   ],
   "source": [
    "pi"
   ]
  },
  {
   "cell_type": "code",
   "execution_count": 6,
   "id": "af37d583",
   "metadata": {},
   "outputs": [],
   "source": [
    "from scipy.optimize import fsolve"
   ]
  },
  {
   "cell_type": "code",
   "execution_count": 7,
   "id": "574b7599",
   "metadata": {},
   "outputs": [],
   "source": [
    "def fv(x):\n",
    "    return x+2"
   ]
  },
  {
   "cell_type": "code",
   "execution_count": 8,
   "id": "69300112",
   "metadata": {},
   "outputs": [
    {
     "data": {
      "text/plain": [
       "array([-2.])"
      ]
     },
     "execution_count": 8,
     "metadata": {},
     "output_type": "execute_result"
    }
   ],
   "source": [
    "fsolve(fv, 1)"
   ]
  },
  {
   "cell_type": "code",
   "execution_count": 9,
   "id": "e851e34c",
   "metadata": {},
   "outputs": [],
   "source": [
    "def fv2(x):\n",
    "    return x**2-4"
   ]
  },
  {
   "cell_type": "code",
   "execution_count": 11,
   "id": "e733e2fd",
   "metadata": {},
   "outputs": [
    {
     "data": {
      "text/plain": [
       "array([-2.])"
      ]
     },
     "execution_count": 11,
     "metadata": {},
     "output_type": "execute_result"
    }
   ],
   "source": [
    "fsolve(fv2, -5)"
   ]
  },
  {
   "cell_type": "code",
   "execution_count": 13,
   "id": "2d4af168",
   "metadata": {},
   "outputs": [
    {
     "data": {
      "text/plain": [
       "(array([0.]),\n",
       " {'nfev': 13,\n",
       "  'fjac': array([[-1.]]),\n",
       "  'r': array([6.50031613e-20]),\n",
       "  'qtf': array([4.]),\n",
       "  'fvec': array([-4.])},\n",
       " 5,\n",
       " 'The iteration is not making good progress, as measured by the \\n  improvement from the last ten iterations.')"
      ]
     },
     "execution_count": 13,
     "metadata": {},
     "output_type": "execute_result"
    }
   ],
   "source": [
    "fsolve(fv2, 0, full_output=True)"
   ]
  },
  {
   "cell_type": "code",
   "execution_count": 14,
   "id": "e0e91667",
   "metadata": {},
   "outputs": [],
   "source": [
    "def fv3(x):\n",
    "    return x**3-3*x**2-9*x+40"
   ]
  },
  {
   "cell_type": "code",
   "execution_count": 16,
   "id": "a1fa2eb4",
   "metadata": {},
   "outputs": [
    {
     "data": {
      "text/plain": [
       "(array([2.99792419]),\n",
       " {'nfev': 28,\n",
       "  'fjac': array([[-1.]]),\n",
       "  'r': array([-0.00807397]),\n",
       "  'qtf': array([-13.00002585]),\n",
       "  'fvec': array([13.00002585])},\n",
       " 5,\n",
       " 'The iteration is not making good progress, as measured by the \\n  improvement from the last ten iterations.')"
      ]
     },
     "execution_count": 16,
     "metadata": {},
     "output_type": "execute_result"
    }
   ],
   "source": [
    "fsolve(fv3, 10, full_output=True)"
   ]
  },
  {
   "cell_type": "code",
   "execution_count": 17,
   "id": "80c73c04",
   "metadata": {},
   "outputs": [],
   "source": [
    "# x+y=5    x**2+y**2=17\n",
    "def fv4(inputlista):\n",
    "    x = inputlista[0]\n",
    "    y = inputlista[1]\n",
    "    eq1 = x+y-5\n",
    "    eq2 = x**2+y**2-17\n",
    "    return [eq1, eq2]"
   ]
  },
  {
   "cell_type": "code",
   "execution_count": 18,
   "id": "4a78c139",
   "metadata": {},
   "outputs": [
    {
     "data": {
      "text/plain": [
       "array([1., 4.])"
      ]
     },
     "execution_count": 18,
     "metadata": {},
     "output_type": "execute_result"
    }
   ],
   "source": [
    "fsolve(fv4, [0, 5])"
   ]
  },
  {
   "cell_type": "code",
   "execution_count": 19,
   "id": "f13bc30d",
   "metadata": {},
   "outputs": [
    {
     "data": {
      "text/plain": [
       "array([4., 1.])"
      ]
     },
     "execution_count": 19,
     "metadata": {},
     "output_type": "execute_result"
    }
   ],
   "source": [
    "fsolve(fv4, [5,0])"
   ]
  },
  {
   "cell_type": "code",
   "execution_count": 20,
   "id": "02993928",
   "metadata": {},
   "outputs": [],
   "source": [
    "def ketidoszak(r):\n",
    "    return 100+120/(1+r)-109.87-109.87/(1+r)"
   ]
  },
  {
   "cell_type": "code",
   "execution_count": 21,
   "id": "8691c469",
   "metadata": {},
   "outputs": [
    {
     "data": {
      "text/plain": [
       "array([0.02634245])"
      ]
     },
     "execution_count": 21,
     "metadata": {},
     "output_type": "execute_result"
    }
   ],
   "source": [
    "fsolve(ketidoszak, 0.05)"
   ]
  },
  {
   "cell_type": "code",
   "execution_count": 22,
   "id": "f9227475",
   "metadata": {},
   "outputs": [],
   "source": [
    "def cobb(a):\n",
    "    return 180-1.7*100**a*200**(1-a)"
   ]
  },
  {
   "cell_type": "code",
   "execution_count": 25,
   "id": "107f6b99",
   "metadata": {},
   "outputs": [
    {
     "data": {
      "text/plain": [
       "165.15681116544488"
      ]
     },
     "execution_count": 25,
     "metadata": {},
     "output_type": "execute_result"
    }
   ],
   "source": [
    "fsolve(cobb, 0.5)[0]*180"
   ]
  },
  {
   "cell_type": "code",
   "execution_count": 26,
   "id": "930a0f33",
   "metadata": {},
   "outputs": [],
   "source": [
    "def rbc(x):\n",
    "    a = x[0]\n",
    "    K = x[1]\n",
    "    Y = 1.2*K**a*70**(1-a)\n",
    "    eq1 = 130-Y\n",
    "    eq2 = 0.2-a*Y/K\n",
    "    return [eq1, eq2]"
   ]
  },
  {
   "cell_type": "code",
   "execution_count": 27,
   "id": "cb34775e",
   "metadata": {},
   "outputs": [
    {
     "data": {
      "text/plain": [
       "array([  0.36102359, 234.66533306])"
      ]
     },
     "execution_count": 27,
     "metadata": {},
     "output_type": "execute_result"
    }
   ],
   "source": [
    "fsolve(rbc, [0.5, 130])"
   ]
  },
  {
   "cell_type": "code",
   "execution_count": 30,
   "id": "1756d89b",
   "metadata": {},
   "outputs": [],
   "source": [
    "def rbc2(x):\n",
    "    K = x[0]\n",
    "    L = x[1]\n",
    "    b=0.97\n",
    "    r=1/b-1\n",
    "    d=0.03\n",
    "    rk=r+d\n",
    "    Y = 1.4*K**0.38*L**0.62\n",
    "    w = (1-0.38)*Y/L\n",
    "    C = w/L**0.4\n",
    "    I = d*K\n",
    "    eq1 = Y-C-I\n",
    "    eq2 = rk-0.38*Y/K\n",
    "    return [eq1, eq2]"
   ]
  },
  {
   "cell_type": "code",
   "execution_count": 32,
   "id": "56af6dc2",
   "metadata": {},
   "outputs": [],
   "source": [
    "[K, L]=fsolve(rbc2, [1, 1])"
   ]
  },
  {
   "cell_type": "code",
   "execution_count": 33,
   "id": "9909b8b7",
   "metadata": {},
   "outputs": [
    {
     "data": {
      "text/plain": [
       "27.156053471943494"
      ]
     },
     "execution_count": 33,
     "metadata": {},
     "output_type": "execute_result"
    }
   ],
   "source": [
    "K"
   ]
  },
  {
   "cell_type": "code",
   "execution_count": 34,
   "id": "02f7689f",
   "metadata": {},
   "outputs": [
    {
     "data": {
      "text/plain": [
       "0.8240813115362087"
      ]
     },
     "execution_count": 34,
     "metadata": {},
     "output_type": "execute_result"
    }
   ],
   "source": [
    "L"
   ]
  },
  {
   "cell_type": "code",
   "execution_count": 35,
   "id": "e6646eec",
   "metadata": {},
   "outputs": [],
   "source": [
    "Y = 1.4*K**0.38*L**0.62"
   ]
  },
  {
   "cell_type": "code",
   "execution_count": 36,
   "id": "ef0b3b01",
   "metadata": {},
   "outputs": [
    {
     "data": {
      "text/plain": [
       "4.354104069971565"
      ]
     },
     "execution_count": 36,
     "metadata": {},
     "output_type": "execute_result"
    }
   ],
   "source": [
    "Y"
   ]
  },
  {
   "cell_type": "code",
   "execution_count": null,
   "id": "215834ac",
   "metadata": {},
   "outputs": [],
   "source": []
  }
 ],
 "metadata": {
  "kernelspec": {
   "display_name": "Python 3",
   "language": "python",
   "name": "python3"
  },
  "language_info": {
   "codemirror_mode": {
    "name": "ipython",
    "version": 3
   },
   "file_extension": ".py",
   "mimetype": "text/x-python",
   "name": "python",
   "nbconvert_exporter": "python",
   "pygments_lexer": "ipython3",
   "version": "3.8.8"
  }
 },
 "nbformat": 4,
 "nbformat_minor": 5
}
