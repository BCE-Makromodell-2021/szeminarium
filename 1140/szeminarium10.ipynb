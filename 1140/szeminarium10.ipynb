{
 "cells": [
  {
   "cell_type": "code",
   "execution_count": 1,
   "id": "3f851f8a",
   "metadata": {},
   "outputs": [],
   "source": [
    "import pandas as pd"
   ]
  },
  {
   "cell_type": "code",
   "execution_count": 2,
   "id": "0a1bf22d",
   "metadata": {},
   "outputs": [],
   "source": [
    "df = pd.read_csv('Corporate_Procurement_Contract_Awards.txt')"
   ]
  },
  {
   "cell_type": "code",
   "execution_count": 4,
   "id": "e30d2ed3",
   "metadata": {},
   "outputs": [
    {
     "data": {
      "text/plain": [
       "Q4 - FY14    98\n",
       "Q2 - FY16    98\n",
       "Q3 - FY17    97\n",
       "Q4 - FY15    96\n",
       "Q4 - FY16    96\n",
       "Q3 - FY18    92\n",
       "Q4 - FY18    90\n",
       "Q3 - FY16    84\n",
       "Q4 - FY17    82\n",
       "Q3 - FY15    80\n",
       "Q2 - FY17    80\n",
       "Q2 - FY18    79\n",
       "Q2 - FY15    79\n",
       "Q1 - FY17    77\n",
       "Q1 - FY15    73\n",
       "Q2 - FY14    72\n",
       "Q1 - FY16    70\n",
       "Q3 - FY14    68\n",
       "Q1 - FY18    67\n",
       "Q1 - FY14    65\n",
       "Q1 - FY19    58\n",
       "Name: Quarter and Fiscal Year, dtype: int64"
      ]
     },
     "execution_count": 4,
     "metadata": {},
     "output_type": "execute_result"
    }
   ],
   "source": [
    "df[\"Quarter and Fiscal Year\"].value_counts()"
   ]
  },
  {
   "cell_type": "code",
   "execution_count": 6,
   "id": "6865093b",
   "metadata": {},
   "outputs": [],
   "source": [
    "def get_quarter(x):\n",
    "    return x.split(\" \")[0]\n",
    "\n",
    "df[\"Quarter\"] = df[\"Quarter and Fiscal Year\"].map(get_quarter)"
   ]
  },
  {
   "cell_type": "code",
   "execution_count": 8,
   "id": "39125a29",
   "metadata": {},
   "outputs": [],
   "source": [
    "df[\"Quarter2\"] = df[\"Quarter and Fiscal Year\"].map(lambda x: x.split(\" \")[0])"
   ]
  },
  {
   "cell_type": "code",
   "execution_count": 10,
   "id": "f6a13bf1",
   "metadata": {},
   "outputs": [],
   "source": [
    "df[\"Year\"] = df[\"Quarter and Fiscal Year\"].map(lambda x: \"20{}\".format(x.split(\"Y\")[1]))"
   ]
  },
  {
   "cell_type": "code",
   "execution_count": 12,
   "id": "214c4ff8",
   "metadata": {},
   "outputs": [
    {
     "data": {
      "text/plain": [
       "2016    348\n",
       "2017    336\n",
       "2015    328\n",
       "2018    328\n",
       "2014    303\n",
       "2019     58\n",
       "Name: Year, dtype: int64"
      ]
     },
     "execution_count": 12,
     "metadata": {},
     "output_type": "execute_result"
    }
   ],
   "source": [
    "df[\"Year\"].value_counts()"
   ]
  },
  {
   "cell_type": "code",
   "execution_count": 14,
   "id": "d06757ef",
   "metadata": {},
   "outputs": [
    {
     "data": {
      "text/plain": [
       "1225"
      ]
     },
     "execution_count": 14,
     "metadata": {},
     "output_type": "execute_result"
    }
   ],
   "source": [
    "df[\"Supplier\"].nunique()"
   ]
  },
  {
   "cell_type": "code",
   "execution_count": 15,
   "id": "29c92263",
   "metadata": {},
   "outputs": [
    {
     "data": {
      "text/plain": [
       "array(['University Hospital Heidelberg', 'DataSoft Systems Bangladesh Li',\n",
       "       'Economic Consulting Associates, Ltd.', ...,\n",
       "       'National Center for Civic Innovation',\n",
       "       'International Water Mgmt. Institute', 'Net Expat Inc.'],\n",
       "      dtype=object)"
      ]
     },
     "execution_count": 15,
     "metadata": {},
     "output_type": "execute_result"
    }
   ],
   "source": [
    "df[\"Supplier\"].unique()"
   ]
  },
  {
   "cell_type": "code",
   "execution_count": 18,
   "id": "9e2c0dbf",
   "metadata": {},
   "outputs": [
    {
     "data": {
      "text/plain": [
       "35"
      ]
     },
     "execution_count": 18,
     "metadata": {},
     "output_type": "execute_result"
    }
   ],
   "source": [
    "df[\"Commodity Category\"].nunique()"
   ]
  },
  {
   "cell_type": "code",
   "execution_count": 24,
   "id": "614a2165",
   "metadata": {},
   "outputs": [
    {
     "data": {
      "text/plain": [
       "Commodity Category  Year\n",
       "AUDIO VISUAL        2015    2\n",
       "                    2016    4\n",
       "AUDIO VISUALS       2014    2\n",
       "CARTOGRAPHIC        2018    1\n",
       "CONSULTING          2014    1\n",
       "                           ..\n",
       "TRAINING            2017    7\n",
       "                    2018    2\n",
       "TRAINING            2018    4\n",
       "TRANSPORTATION      2015    1\n",
       "                    2017    1\n",
       "Name: Selection Number, Length: 82, dtype: int64"
      ]
     },
     "execution_count": 24,
     "metadata": {},
     "output_type": "execute_result"
    }
   ],
   "source": [
    "df.groupby([\"Commodity Category\",\"Year\"])[\"Selection Number\"].count()"
   ]
  },
  {
   "cell_type": "code",
   "execution_count": 28,
   "id": "6fa117ee",
   "metadata": {},
   "outputs": [
    {
     "data": {
      "text/plain": [
       "array(['CONTRACT CONSULTANTS', 'SOFTWARE', 'EXTRNL/CATERED EVENT',\n",
       "       'AUDIO VISUAL', 'CONSULTING', 'EXTERNAL/CATERED EVENT',\n",
       "       'MISCELLANEOUS', 'TRANSPORTATION', 'TELECOMMUNICATIONS',\n",
       "       'IT HARDWARE', 'TRAINING', 'PHOTOCOPY', 'PUBLISHING', 'MEDICAL',\n",
       "       'External Meetings (non-staff)', 'MISCELLANEOUS SRVCS', 'PRINTING',\n",
       "       'PRINTING ', 'SOFTWARE ', 'INFORMATION TECH.', 'TRAINING ',\n",
       "       'CARTOGRAPHIC ', 'MEDICAL ', 'AUDIO VISUALS', 'FURNITURE ',\n",
       "       'TELECOMMUNICATIONS ', 'LANGUAGE SERVICES',\n",
       "       'MISCELLANEOUS SERVICES', 'GENERAL BUILDING', 'FURNITURE',\n",
       "       'SUBSCRIPTION', 'CONTRACT CONSULTING',\n",
       "       'RESEARCH AND ADVISORY SERVICE', 'MISCELANEOUS', 'FREIGHT/MAIL'],\n",
       "      dtype=object)"
      ]
     },
     "execution_count": 28,
     "metadata": {},
     "output_type": "execute_result"
    }
   ],
   "source": [
    "df[\"Commodity Category\"].unique()"
   ]
  },
  {
   "cell_type": "code",
   "execution_count": 29,
   "id": "9b4d9720",
   "metadata": {},
   "outputs": [],
   "source": [
    "df[\"Commodity Category\"] = df[\"Commodity Category\"].map(lambda x: x.strip())"
   ]
  },
  {
   "cell_type": "code",
   "execution_count": 30,
   "id": "971e3d3a",
   "metadata": {},
   "outputs": [
    {
     "data": {
      "text/plain": [
       "array(['CONTRACT CONSULTANTS', 'SOFTWARE', 'EXTRNL/CATERED EVENT',\n",
       "       'AUDIO VISUAL', 'CONSULTING', 'EXTERNAL/CATERED EVENT',\n",
       "       'MISCELLANEOUS', 'TRANSPORTATION', 'TELECOMMUNICATIONS',\n",
       "       'IT HARDWARE', 'TRAINING', 'PHOTOCOPY', 'PUBLISHING', 'MEDICAL',\n",
       "       'External Meetings (non-staff)', 'MISCELLANEOUS SRVCS', 'PRINTING',\n",
       "       'INFORMATION TECH.', 'CARTOGRAPHIC', 'AUDIO VISUALS', 'FURNITURE',\n",
       "       'LANGUAGE SERVICES', 'MISCELLANEOUS SERVICES', 'GENERAL BUILDING',\n",
       "       'SUBSCRIPTION', 'CONTRACT CONSULTING',\n",
       "       'RESEARCH AND ADVISORY SERVICE', 'MISCELANEOUS', 'FREIGHT/MAIL'],\n",
       "      dtype=object)"
      ]
     },
     "execution_count": 30,
     "metadata": {},
     "output_type": "execute_result"
    }
   ],
   "source": [
    "df[\"Commodity Category\"].unique()"
   ]
  },
  {
   "cell_type": "code",
   "execution_count": 31,
   "id": "b87a01e8",
   "metadata": {},
   "outputs": [
    {
     "data": {
      "text/plain": [
       "Commodity Category  Year\n",
       "AUDIO VISUAL        2015    2\n",
       "                    2016    4\n",
       "AUDIO VISUALS       2014    2\n",
       "CARTOGRAPHIC        2018    1\n",
       "CONSULTING          2014    1\n",
       "                           ..\n",
       "TRAINING            2016    3\n",
       "                    2017    7\n",
       "                    2018    6\n",
       "TRANSPORTATION      2015    1\n",
       "                    2017    1\n",
       "Name: Selection Number, Length: 78, dtype: int64"
      ]
     },
     "execution_count": 31,
     "metadata": {},
     "output_type": "execute_result"
    }
   ],
   "source": [
    "df.groupby([\"Commodity Category\",\"Year\"])[\"Selection Number\"].count()"
   ]
  },
  {
   "cell_type": "code",
   "execution_count": 33,
   "id": "a625edcc",
   "metadata": {},
   "outputs": [
    {
     "data": {
      "text/plain": [
       "array(['DE', 'BD', 'GB', 'GR', 'ES', 'DK', 'US', 'KE', 'FR', nan, 'CA',\n",
       "       'SG', 'PT', 'HK', 'FI', 'BW', 'PK', 'NL', 'AT', 'BE', 'RU', 'AE',\n",
       "       'ID', 'UK', 'NG', 'JO', 'BF', 'YF', 'EG', 'BM', 'IN', 'SN', 'MU',\n",
       "       'ML', 'CO', 'ZM', 'CI', 'PH', 'CH', 'NZ', 'IE', 'CN', 'PE', 'TR',\n",
       "       'NP', 'BR', 'LA', 'IT', 'BB', 'DO', 'VN', 'MA', 'AU', 'JM', 'MW',\n",
       "       'GH', 'MM', 'ZW', 'LB', 'TH', 'AF', 'ZA', 'BI', 'MX', 'TJ', 'RY',\n",
       "       'SE', 'NO', 'NE', 'MZ', 'PG', 'ET', 'TZ', 'MY', 'AR', 'LK', 'GZ',\n",
       "       'LS', 'UA', 'TN', 'CM', 'JPN', 'SD', 'BU', 'MN', 'SV', 'RO', 'BJ',\n",
       "       'JP', 'ZR', 'PA', 'TD', 'IL', 'CG', 'BG', 'TT', 'UG', 'PL', 'SB',\n",
       "       'MK', 'RW', 'SS', 'IR', 'SI', 'CZ', 'SA', 'NC', 'KY', 'KR', 'CL',\n",
       "       'SK', 'LR', 'NI', 'FM', 'UY', 'GT'], dtype=object)"
      ]
     },
     "execution_count": 33,
     "metadata": {},
     "output_type": "execute_result"
    }
   ],
   "source": [
    "df[\"Supplier Country Code\"].unique()"
   ]
  },
  {
   "cell_type": "code",
   "execution_count": 34,
   "id": "5b0bb148",
   "metadata": {},
   "outputs": [
    {
     "data": {
      "text/html": [
       "<div>\n",
       "<style scoped>\n",
       "    .dataframe tbody tr th:only-of-type {\n",
       "        vertical-align: middle;\n",
       "    }\n",
       "\n",
       "    .dataframe tbody tr th {\n",
       "        vertical-align: top;\n",
       "    }\n",
       "\n",
       "    .dataframe thead th {\n",
       "        text-align: right;\n",
       "    }\n",
       "</style>\n",
       "<table border=\"1\" class=\"dataframe\">\n",
       "  <thead>\n",
       "    <tr style=\"text-align: right;\">\n",
       "      <th></th>\n",
       "      <th>Award Date</th>\n",
       "      <th>Quarter and Fiscal Year</th>\n",
       "      <th>Commodity Category</th>\n",
       "      <th>Contract Description</th>\n",
       "      <th>WBG Organization</th>\n",
       "      <th>Selection Number</th>\n",
       "      <th>Supplier</th>\n",
       "      <th>Supplier Country</th>\n",
       "      <th>Supplier Country Code</th>\n",
       "      <th>Contract Award Amount</th>\n",
       "      <th>Fund Source</th>\n",
       "      <th>VPU description</th>\n",
       "      <th>Quarter</th>\n",
       "      <th>Quarter2</th>\n",
       "      <th>Year</th>\n",
       "    </tr>\n",
       "  </thead>\n",
       "  <tbody>\n",
       "    <tr>\n",
       "      <th>16</th>\n",
       "      <td>09/16/2013 12:00:00 AM</td>\n",
       "      <td>Q1 - FY14</td>\n",
       "      <td>CONTRACT CONSULTANTS</td>\n",
       "      <td>Consulting services for SSATP (Africa Transpor...</td>\n",
       "      <td>IBRD</td>\n",
       "      <td>1102453</td>\n",
       "      <td>Corridor Development Consultants</td>\n",
       "      <td>Namibia</td>\n",
       "      <td>NaN</td>\n",
       "      <td>568022.0</td>\n",
       "      <td>TRUST FUND</td>\n",
       "      <td>Africa</td>\n",
       "      <td>Q1</td>\n",
       "      <td>Q1</td>\n",
       "      <td>2014</td>\n",
       "    </tr>\n",
       "  </tbody>\n",
       "</table>\n",
       "</div>"
      ],
      "text/plain": [
       "                Award Date Quarter and Fiscal Year    Commodity Category  \\\n",
       "16  09/16/2013 12:00:00 AM               Q1 - FY14  CONTRACT CONSULTANTS   \n",
       "\n",
       "                                 Contract Description WBG Organization  \\\n",
       "16  Consulting services for SSATP (Africa Transpor...             IBRD   \n",
       "\n",
       "   Selection Number                          Supplier Supplier Country  \\\n",
       "16          1102453  Corridor Development Consultants          Namibia   \n",
       "\n",
       "   Supplier Country Code  Contract Award Amount Fund Source VPU description  \\\n",
       "16                   NaN               568022.0  TRUST FUND          Africa   \n",
       "\n",
       "   Quarter Quarter2  Year  \n",
       "16      Q1       Q1  2014  "
      ]
     },
     "execution_count": 34,
     "metadata": {},
     "output_type": "execute_result"
    }
   ],
   "source": [
    "df[df[\"Supplier Country Code\"].isna()]"
   ]
  },
  {
   "cell_type": "code",
   "execution_count": 36,
   "id": "ed3bc70a",
   "metadata": {},
   "outputs": [],
   "source": [
    "df[\"Supplier Country Code\"] = df[\"Supplier Country Code\"].fillna(\"NA\")"
   ]
  },
  {
   "cell_type": "code",
   "execution_count": 37,
   "id": "f48f4e51",
   "metadata": {},
   "outputs": [
    {
     "data": {
      "text/html": [
       "<div>\n",
       "<style scoped>\n",
       "    .dataframe tbody tr th:only-of-type {\n",
       "        vertical-align: middle;\n",
       "    }\n",
       "\n",
       "    .dataframe tbody tr th {\n",
       "        vertical-align: top;\n",
       "    }\n",
       "\n",
       "    .dataframe thead th {\n",
       "        text-align: right;\n",
       "    }\n",
       "</style>\n",
       "<table border=\"1\" class=\"dataframe\">\n",
       "  <thead>\n",
       "    <tr style=\"text-align: right;\">\n",
       "      <th></th>\n",
       "      <th>Award Date</th>\n",
       "      <th>Quarter and Fiscal Year</th>\n",
       "      <th>Commodity Category</th>\n",
       "      <th>Contract Description</th>\n",
       "      <th>WBG Organization</th>\n",
       "      <th>Selection Number</th>\n",
       "      <th>Supplier</th>\n",
       "      <th>Supplier Country</th>\n",
       "      <th>Supplier Country Code</th>\n",
       "      <th>Contract Award Amount</th>\n",
       "      <th>Fund Source</th>\n",
       "      <th>VPU description</th>\n",
       "      <th>Quarter</th>\n",
       "      <th>Quarter2</th>\n",
       "      <th>Year</th>\n",
       "    </tr>\n",
       "  </thead>\n",
       "  <tbody>\n",
       "  </tbody>\n",
       "</table>\n",
       "</div>"
      ],
      "text/plain": [
       "Empty DataFrame\n",
       "Columns: [Award Date, Quarter and Fiscal Year, Commodity Category, Contract Description, WBG Organization, Selection Number, Supplier, Supplier Country, Supplier Country Code, Contract Award Amount, Fund Source, VPU description, Quarter, Quarter2, Year]\n",
       "Index: []"
      ]
     },
     "execution_count": 37,
     "metadata": {},
     "output_type": "execute_result"
    }
   ],
   "source": [
    "df[df[\"Supplier Country Code\"].isna()]"
   ]
  },
  {
   "cell_type": "code",
   "execution_count": null,
   "id": "6a3c7a9a",
   "metadata": {},
   "outputs": [],
   "source": []
  }
 ],
 "metadata": {
  "kernelspec": {
   "display_name": "Python 3",
   "language": "python",
   "name": "python3"
  },
  "language_info": {
   "codemirror_mode": {
    "name": "ipython",
    "version": 3
   },
   "file_extension": ".py",
   "mimetype": "text/x-python",
   "name": "python",
   "nbconvert_exporter": "python",
   "pygments_lexer": "ipython3",
   "version": "3.8.8"
  }
 },
 "nbformat": 4,
 "nbformat_minor": 5
}
