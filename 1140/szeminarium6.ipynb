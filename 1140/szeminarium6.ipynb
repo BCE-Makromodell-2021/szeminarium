{
 "cells": [
  {
   "cell_type": "code",
   "execution_count": 1,
   "id": "27fb10c7",
   "metadata": {},
   "outputs": [],
   "source": [
    "a = [2, 3, 4, 2, 1, 5]"
   ]
  },
  {
   "cell_type": "code",
   "execution_count": 2,
   "id": "75353566",
   "metadata": {},
   "outputs": [
    {
     "data": {
      "text/plain": [
       "3"
      ]
     },
     "execution_count": 2,
     "metadata": {},
     "output_type": "execute_result"
    }
   ],
   "source": [
    "a[1]"
   ]
  },
  {
   "cell_type": "code",
   "execution_count": 3,
   "id": "d1a94b39",
   "metadata": {},
   "outputs": [
    {
     "data": {
      "text/plain": [
       "[4, 2]"
      ]
     },
     "execution_count": 3,
     "metadata": {},
     "output_type": "execute_result"
    }
   ],
   "source": [
    "a[2:4]"
   ]
  },
  {
   "cell_type": "code",
   "execution_count": 4,
   "id": "3a0de222",
   "metadata": {},
   "outputs": [
    {
     "data": {
      "text/plain": [
       "[4, 2, 1, 5]"
      ]
     },
     "execution_count": 4,
     "metadata": {},
     "output_type": "execute_result"
    }
   ],
   "source": [
    "a[2:]"
   ]
  },
  {
   "cell_type": "code",
   "execution_count": 5,
   "id": "573761e5",
   "metadata": {},
   "outputs": [],
   "source": [
    "a.append(42)"
   ]
  },
  {
   "cell_type": "code",
   "execution_count": 6,
   "id": "5d94f524",
   "metadata": {},
   "outputs": [
    {
     "data": {
      "text/plain": [
       "[2, 3, 4, 2, 1, 5, 42]"
      ]
     },
     "execution_count": 6,
     "metadata": {},
     "output_type": "execute_result"
    }
   ],
   "source": [
    "a"
   ]
  },
  {
   "cell_type": "code",
   "execution_count": 7,
   "id": "7056393c",
   "metadata": {},
   "outputs": [
    {
     "data": {
      "text/plain": [
       "2"
      ]
     },
     "execution_count": 7,
     "metadata": {},
     "output_type": "execute_result"
    }
   ],
   "source": [
    "a.count(2)"
   ]
  },
  {
   "cell_type": "code",
   "execution_count": 8,
   "id": "46bc9fa2",
   "metadata": {},
   "outputs": [],
   "source": [
    "a.remove(2)"
   ]
  },
  {
   "cell_type": "code",
   "execution_count": 9,
   "id": "037ff744",
   "metadata": {},
   "outputs": [
    {
     "data": {
      "text/plain": [
       "[3, 4, 2, 1, 5, 42]"
      ]
     },
     "execution_count": 9,
     "metadata": {},
     "output_type": "execute_result"
    }
   ],
   "source": [
    "a"
   ]
  },
  {
   "cell_type": "code",
   "execution_count": 10,
   "id": "37132d4f",
   "metadata": {},
   "outputs": [],
   "source": [
    "a.reverse()"
   ]
  },
  {
   "cell_type": "code",
   "execution_count": 11,
   "id": "f921e6a5",
   "metadata": {},
   "outputs": [
    {
     "data": {
      "text/plain": [
       "[42, 5, 1, 2, 4, 3]"
      ]
     },
     "execution_count": 11,
     "metadata": {},
     "output_type": "execute_result"
    }
   ],
   "source": [
    "a"
   ]
  },
  {
   "cell_type": "code",
   "execution_count": 12,
   "id": "eea2a345",
   "metadata": {},
   "outputs": [],
   "source": [
    "a.sort()"
   ]
  },
  {
   "cell_type": "code",
   "execution_count": 13,
   "id": "87745034",
   "metadata": {},
   "outputs": [
    {
     "data": {
      "text/plain": [
       "[1, 2, 3, 4, 5, 42]"
      ]
     },
     "execution_count": 13,
     "metadata": {},
     "output_type": "execute_result"
    }
   ],
   "source": [
    "a"
   ]
  },
  {
   "cell_type": "code",
   "execution_count": 14,
   "id": "a513782a",
   "metadata": {},
   "outputs": [],
   "source": [
    "a[0]='körte'"
   ]
  },
  {
   "cell_type": "code",
   "execution_count": 15,
   "id": "32fceebd",
   "metadata": {},
   "outputs": [
    {
     "data": {
      "text/plain": [
       "['körte', 2, 3, 4, 5, 42]"
      ]
     },
     "execution_count": 15,
     "metadata": {},
     "output_type": "execute_result"
    }
   ],
   "source": [
    "a"
   ]
  },
  {
   "cell_type": "code",
   "execution_count": 16,
   "id": "a6d1d5ce",
   "metadata": {},
   "outputs": [
    {
     "ename": "TypeError",
     "evalue": "'<' not supported between instances of 'int' and 'str'",
     "output_type": "error",
     "traceback": [
      "\u001b[1;31m---------------------------------------------------------------------------\u001b[0m",
      "\u001b[1;31mTypeError\u001b[0m                                 Traceback (most recent call last)",
      "\u001b[1;32m<ipython-input-16-2ed0d7de6146>\u001b[0m in \u001b[0;36m<module>\u001b[1;34m\u001b[0m\n\u001b[1;32m----> 1\u001b[1;33m \u001b[0ma\u001b[0m\u001b[1;33m.\u001b[0m\u001b[0msort\u001b[0m\u001b[1;33m(\u001b[0m\u001b[1;33m)\u001b[0m\u001b[1;33m\u001b[0m\u001b[1;33m\u001b[0m\u001b[0m\n\u001b[0m",
      "\u001b[1;31mTypeError\u001b[0m: '<' not supported between instances of 'int' and 'str'"
     ]
    }
   ],
   "source": [
    "a.sort()"
   ]
  },
  {
   "cell_type": "code",
   "execution_count": 17,
   "id": "0b1f2622",
   "metadata": {},
   "outputs": [
    {
     "data": {
      "text/plain": [
       "['körte', 2, 3, 4, 5, 42]"
      ]
     },
     "execution_count": 17,
     "metadata": {},
     "output_type": "execute_result"
    }
   ],
   "source": [
    "a"
   ]
  },
  {
   "cell_type": "code",
   "execution_count": 18,
   "id": "3f4a3a06",
   "metadata": {},
   "outputs": [],
   "source": [
    "a[1:3]=[42,52]"
   ]
  },
  {
   "cell_type": "code",
   "execution_count": 19,
   "id": "1d289af9",
   "metadata": {},
   "outputs": [
    {
     "data": {
      "text/plain": [
       "['körte', 42, 52, 4, 5, 42]"
      ]
     },
     "execution_count": 19,
     "metadata": {},
     "output_type": "execute_result"
    }
   ],
   "source": [
    "a"
   ]
  },
  {
   "cell_type": "code",
   "execution_count": 20,
   "id": "c14a0f0c",
   "metadata": {},
   "outputs": [],
   "source": [
    "a[1:3] = [1, 2, 3, 4, 54, 6]"
   ]
  },
  {
   "cell_type": "code",
   "execution_count": 21,
   "id": "9c32e12d",
   "metadata": {},
   "outputs": [
    {
     "data": {
      "text/plain": [
       "['körte', 1, 2, 3, 4, 54, 6, 4, 5, 42]"
      ]
     },
     "execution_count": 21,
     "metadata": {},
     "output_type": "execute_result"
    }
   ],
   "source": [
    "a"
   ]
  },
  {
   "cell_type": "code",
   "execution_count": 22,
   "id": "6ca9f666",
   "metadata": {},
   "outputs": [
    {
     "data": {
      "text/plain": [
       "10"
      ]
     },
     "execution_count": 22,
     "metadata": {},
     "output_type": "execute_result"
    }
   ],
   "source": [
    "len(a)"
   ]
  },
  {
   "cell_type": "code",
   "execution_count": 23,
   "id": "bbab74d1",
   "metadata": {},
   "outputs": [],
   "source": [
    "b=[1,2,3,4]"
   ]
  },
  {
   "cell_type": "code",
   "execution_count": 24,
   "id": "473dddd8",
   "metadata": {},
   "outputs": [
    {
     "data": {
      "text/plain": [
       "10"
      ]
     },
     "execution_count": 24,
     "metadata": {},
     "output_type": "execute_result"
    }
   ],
   "source": [
    "sum(b)"
   ]
  },
  {
   "cell_type": "code",
   "execution_count": 25,
   "id": "086a71bf",
   "metadata": {},
   "outputs": [
    {
     "data": {
      "text/plain": [
       "[1, 2, 3, 4, 1, 2, 3, 4, 1, 2, 3, 4]"
      ]
     },
     "execution_count": 25,
     "metadata": {},
     "output_type": "execute_result"
    }
   ],
   "source": [
    "b*3"
   ]
  },
  {
   "cell_type": "code",
   "execution_count": 27,
   "id": "f2cd4887",
   "metadata": {},
   "outputs": [],
   "source": [
    "a='ez egy szoveg'"
   ]
  },
  {
   "cell_type": "code",
   "execution_count": 28,
   "id": "bea8402b",
   "metadata": {},
   "outputs": [
    {
     "data": {
      "text/plain": [
       "['ez', 'egy', 'szoveg']"
      ]
     },
     "execution_count": 28,
     "metadata": {},
     "output_type": "execute_result"
    }
   ],
   "source": [
    "a.split()"
   ]
  },
  {
   "cell_type": "code",
   "execution_count": 29,
   "id": "a8a0443d",
   "metadata": {},
   "outputs": [
    {
     "data": {
      "text/plain": [
       "['', 'z ', 'gy szov', 'g']"
      ]
     },
     "execution_count": 29,
     "metadata": {},
     "output_type": "execute_result"
    }
   ],
   "source": [
    "a.split('e')"
   ]
  },
  {
   "cell_type": "code",
   "execution_count": 30,
   "id": "81fed0a9",
   "metadata": {},
   "outputs": [],
   "source": [
    "szoveg=\"\"\"2,3,4\n",
    "3.14,alma,5\n",
    "42,56,78\"\"\""
   ]
  },
  {
   "cell_type": "code",
   "execution_count": 31,
   "id": "1166f3f3",
   "metadata": {},
   "outputs": [],
   "source": [
    "with open('csvfajlom.csv','w') as f:\n",
    "    f.write(szoveg)"
   ]
  },
  {
   "cell_type": "code",
   "execution_count": 32,
   "id": "ff197715",
   "metadata": {},
   "outputs": [],
   "source": [
    "with open('csvfajlom.csv','r') as kiscica:\n",
    "    beolvasott = kiscica.read()"
   ]
  },
  {
   "cell_type": "code",
   "execution_count": 33,
   "id": "4e8530ca",
   "metadata": {},
   "outputs": [
    {
     "name": "stdout",
     "output_type": "stream",
     "text": [
      "2,3,4\n",
      "3.14,alma,5\n",
      "42,56,78\n"
     ]
    }
   ],
   "source": [
    "print(beolvasott)"
   ]
  },
  {
   "cell_type": "code",
   "execution_count": 36,
   "id": "1d3a8864",
   "metadata": {},
   "outputs": [],
   "source": [
    "data=[]\n",
    "with open('csvfajlom.csv','r') as g:\n",
    "    for sor in g:\n",
    "        data.append(sor.replace('\\n','').split(','))"
   ]
  },
  {
   "cell_type": "code",
   "execution_count": 37,
   "id": "0174087e",
   "metadata": {},
   "outputs": [
    {
     "data": {
      "text/plain": [
       "[['2', '3', '4'], ['3.14', 'alma', '5'], ['42', '56', '78']]"
      ]
     },
     "execution_count": 37,
     "metadata": {},
     "output_type": "execute_result"
    }
   ],
   "source": [
    "data"
   ]
  },
  {
   "cell_type": "code",
   "execution_count": 38,
   "id": "8f6d6804",
   "metadata": {},
   "outputs": [],
   "source": [
    "# TUPLE"
   ]
  },
  {
   "cell_type": "code",
   "execution_count": 39,
   "id": "c3d37f67",
   "metadata": {},
   "outputs": [],
   "source": [
    "a = (2, 3, 4, True, 'alma', 5.67)"
   ]
  },
  {
   "cell_type": "code",
   "execution_count": 40,
   "id": "fbafc5ae",
   "metadata": {},
   "outputs": [
    {
     "data": {
      "text/plain": [
       "(2, 3, 4, True, 'alma', 5.67)"
      ]
     },
     "execution_count": 40,
     "metadata": {},
     "output_type": "execute_result"
    }
   ],
   "source": [
    "a"
   ]
  },
  {
   "cell_type": "code",
   "execution_count": 41,
   "id": "ddae0935",
   "metadata": {},
   "outputs": [
    {
     "data": {
      "text/plain": [
       "2"
      ]
     },
     "execution_count": 41,
     "metadata": {},
     "output_type": "execute_result"
    }
   ],
   "source": [
    "a[0]"
   ]
  },
  {
   "cell_type": "code",
   "execution_count": 42,
   "id": "c74e2fc1",
   "metadata": {},
   "outputs": [
    {
     "data": {
      "text/plain": [
       "(4, True, 'alma')"
      ]
     },
     "execution_count": 42,
     "metadata": {},
     "output_type": "execute_result"
    }
   ],
   "source": [
    "a[2:5]"
   ]
  },
  {
   "cell_type": "code",
   "execution_count": 43,
   "id": "f491f7ad",
   "metadata": {},
   "outputs": [
    {
     "ename": "TypeError",
     "evalue": "'tuple' object does not support item assignment",
     "output_type": "error",
     "traceback": [
      "\u001b[1;31m---------------------------------------------------------------------------\u001b[0m",
      "\u001b[1;31mTypeError\u001b[0m                                 Traceback (most recent call last)",
      "\u001b[1;32m<ipython-input-43-2b8387a114fc>\u001b[0m in \u001b[0;36m<module>\u001b[1;34m\u001b[0m\n\u001b[1;32m----> 1\u001b[1;33m \u001b[0ma\u001b[0m\u001b[1;33m[\u001b[0m\u001b[1;36m2\u001b[0m\u001b[1;33m]\u001b[0m \u001b[1;33m=\u001b[0m \u001b[1;36m34\u001b[0m\u001b[1;33m\u001b[0m\u001b[1;33m\u001b[0m\u001b[0m\n\u001b[0m",
      "\u001b[1;31mTypeError\u001b[0m: 'tuple' object does not support item assignment"
     ]
    }
   ],
   "source": [
    "a[2] = 34"
   ]
  },
  {
   "cell_type": "code",
   "execution_count": 44,
   "id": "cdc4c695",
   "metadata": {},
   "outputs": [],
   "source": [
    "a = \"alma\""
   ]
  },
  {
   "cell_type": "code",
   "execution_count": 45,
   "id": "7a777071",
   "metadata": {},
   "outputs": [
    {
     "data": {
      "text/plain": [
       "'alma'"
      ]
     },
     "execution_count": 45,
     "metadata": {},
     "output_type": "execute_result"
    }
   ],
   "source": [
    "a"
   ]
  },
  {
   "cell_type": "code",
   "execution_count": 46,
   "id": "1d2dcc75",
   "metadata": {},
   "outputs": [],
   "source": [
    "b = (2, 3, 4, [5, 'alma'])"
   ]
  },
  {
   "cell_type": "code",
   "execution_count": 47,
   "id": "a642d308",
   "metadata": {},
   "outputs": [
    {
     "ename": "TypeError",
     "evalue": "'tuple' object does not support item assignment",
     "output_type": "error",
     "traceback": [
      "\u001b[1;31m---------------------------------------------------------------------------\u001b[0m",
      "\u001b[1;31mTypeError\u001b[0m                                 Traceback (most recent call last)",
      "\u001b[1;32m<ipython-input-47-62bbbc50f611>\u001b[0m in \u001b[0;36m<module>\u001b[1;34m\u001b[0m\n\u001b[1;32m----> 1\u001b[1;33m \u001b[0mb\u001b[0m\u001b[1;33m[\u001b[0m\u001b[1;36m0\u001b[0m\u001b[1;33m]\u001b[0m \u001b[1;33m=\u001b[0m \u001b[1;36m4\u001b[0m\u001b[1;33m\u001b[0m\u001b[1;33m\u001b[0m\u001b[0m\n\u001b[0m",
      "\u001b[1;31mTypeError\u001b[0m: 'tuple' object does not support item assignment"
     ]
    }
   ],
   "source": [
    "b[0] = 4"
   ]
  },
  {
   "cell_type": "code",
   "execution_count": 48,
   "id": "dd9c52bf",
   "metadata": {},
   "outputs": [
    {
     "data": {
      "text/plain": [
       "[5, 'alma']"
      ]
     },
     "execution_count": 48,
     "metadata": {},
     "output_type": "execute_result"
    }
   ],
   "source": [
    "b[3]"
   ]
  },
  {
   "cell_type": "code",
   "execution_count": 49,
   "id": "30566954",
   "metadata": {},
   "outputs": [
    {
     "data": {
      "text/plain": [
       "5"
      ]
     },
     "execution_count": 49,
     "metadata": {},
     "output_type": "execute_result"
    }
   ],
   "source": [
    "b[3][0]"
   ]
  },
  {
   "cell_type": "code",
   "execution_count": 50,
   "id": "613d42a1",
   "metadata": {},
   "outputs": [],
   "source": [
    "b[3][0] = 42"
   ]
  },
  {
   "cell_type": "code",
   "execution_count": 51,
   "id": "541141ab",
   "metadata": {},
   "outputs": [
    {
     "data": {
      "text/plain": [
       "(2, 3, 4, [42, 'alma'])"
      ]
     },
     "execution_count": 51,
     "metadata": {},
     "output_type": "execute_result"
    }
   ],
   "source": [
    "b"
   ]
  },
  {
   "cell_type": "code",
   "execution_count": 52,
   "id": "e5008e64",
   "metadata": {},
   "outputs": [
    {
     "data": {
      "text/plain": [
       "(2, 3, 4, [42, 'alma'])"
      ]
     },
     "execution_count": 52,
     "metadata": {},
     "output_type": "execute_result"
    }
   ],
   "source": [
    "b"
   ]
  },
  {
   "cell_type": "code",
   "execution_count": 53,
   "id": "7ee19b5b",
   "metadata": {},
   "outputs": [
    {
     "data": {
      "text/plain": [
       "[42, 'alma']"
      ]
     },
     "execution_count": 53,
     "metadata": {},
     "output_type": "execute_result"
    }
   ],
   "source": [
    "b[3]"
   ]
  },
  {
   "cell_type": "code",
   "execution_count": 54,
   "id": "a44df8f8",
   "metadata": {},
   "outputs": [],
   "source": [
    "# SET"
   ]
  },
  {
   "cell_type": "code",
   "execution_count": 55,
   "id": "664b61e9",
   "metadata": {},
   "outputs": [],
   "source": [
    "e = {2, 3, 4, 'alma', 'körte'}\n",
    "f = {2, 6, 3.4, 'alma', 'narancs'}"
   ]
  },
  {
   "cell_type": "code",
   "execution_count": 56,
   "id": "d60c8aef",
   "metadata": {},
   "outputs": [
    {
     "data": {
      "text/plain": [
       "True"
      ]
     },
     "execution_count": 56,
     "metadata": {},
     "output_type": "execute_result"
    }
   ],
   "source": [
    "3 in e"
   ]
  },
  {
   "cell_type": "code",
   "execution_count": 57,
   "id": "5ec21018",
   "metadata": {},
   "outputs": [
    {
     "data": {
      "text/plain": [
       "False"
      ]
     },
     "execution_count": 57,
     "metadata": {},
     "output_type": "execute_result"
    }
   ],
   "source": [
    "'narancs' in e"
   ]
  },
  {
   "cell_type": "code",
   "execution_count": 58,
   "id": "4c159f72",
   "metadata": {},
   "outputs": [
    {
     "data": {
      "text/plain": [
       "{2, 'alma'}"
      ]
     },
     "execution_count": 58,
     "metadata": {},
     "output_type": "execute_result"
    }
   ],
   "source": [
    "e & f"
   ]
  },
  {
   "cell_type": "code",
   "execution_count": 59,
   "id": "ce50c368",
   "metadata": {},
   "outputs": [
    {
     "data": {
      "text/plain": [
       "{2, 3, 3.4, 4, 6, 'alma', 'körte', 'narancs'}"
      ]
     },
     "execution_count": 59,
     "metadata": {},
     "output_type": "execute_result"
    }
   ],
   "source": [
    "e | f"
   ]
  },
  {
   "cell_type": "code",
   "execution_count": 60,
   "id": "e80d6089",
   "metadata": {},
   "outputs": [
    {
     "data": {
      "text/plain": [
       "{3, 4, 'körte'}"
      ]
     },
     "execution_count": 60,
     "metadata": {},
     "output_type": "execute_result"
    }
   ],
   "source": [
    "e-f"
   ]
  },
  {
   "cell_type": "code",
   "execution_count": 61,
   "id": "dd755ca8",
   "metadata": {},
   "outputs": [
    {
     "data": {
      "text/plain": [
       "{3.4, 6, 'narancs'}"
      ]
     },
     "execution_count": 61,
     "metadata": {},
     "output_type": "execute_result"
    }
   ],
   "source": [
    "f-e"
   ]
  },
  {
   "cell_type": "code",
   "execution_count": 62,
   "id": "3e639bdf",
   "metadata": {},
   "outputs": [
    {
     "ename": "TypeError",
     "evalue": "'set' object is not subscriptable",
     "output_type": "error",
     "traceback": [
      "\u001b[1;31m---------------------------------------------------------------------------\u001b[0m",
      "\u001b[1;31mTypeError\u001b[0m                                 Traceback (most recent call last)",
      "\u001b[1;32m<ipython-input-62-4151b458e4a6>\u001b[0m in \u001b[0;36m<module>\u001b[1;34m\u001b[0m\n\u001b[1;32m----> 1\u001b[1;33m \u001b[0me\u001b[0m\u001b[1;33m[\u001b[0m\u001b[1;36m1\u001b[0m\u001b[1;33m]\u001b[0m\u001b[1;33m\u001b[0m\u001b[1;33m\u001b[0m\u001b[0m\n\u001b[0m",
      "\u001b[1;31mTypeError\u001b[0m: 'set' object is not subscriptable"
     ]
    }
   ],
   "source": [
    "e[1]"
   ]
  },
  {
   "cell_type": "code",
   "execution_count": 63,
   "id": "e54432b7",
   "metadata": {},
   "outputs": [
    {
     "data": {
      "text/plain": [
       "{2, 3, 4, 'alma', 'körte'}"
      ]
     },
     "execution_count": 63,
     "metadata": {},
     "output_type": "execute_result"
    }
   ],
   "source": [
    "e"
   ]
  },
  {
   "cell_type": "code",
   "execution_count": 65,
   "id": "e5217abb",
   "metadata": {},
   "outputs": [],
   "source": [
    "b = list(e)"
   ]
  },
  {
   "cell_type": "code",
   "execution_count": 66,
   "id": "93b44ee9",
   "metadata": {},
   "outputs": [
    {
     "data": {
      "text/plain": [
       "[2, 3, 4, 'alma', 'körte']"
      ]
     },
     "execution_count": 66,
     "metadata": {},
     "output_type": "execute_result"
    }
   ],
   "source": [
    "b"
   ]
  },
  {
   "cell_type": "code",
   "execution_count": 67,
   "id": "7e248674",
   "metadata": {},
   "outputs": [
    {
     "data": {
      "text/plain": [
       "{2, 3, 4, 'alma', 'körte'}"
      ]
     },
     "execution_count": 67,
     "metadata": {},
     "output_type": "execute_result"
    }
   ],
   "source": [
    "set(b)"
   ]
  },
  {
   "cell_type": "code",
   "execution_count": 68,
   "id": "8536e26b",
   "metadata": {},
   "outputs": [],
   "source": [
    "a = [2,2,3,4,5,7,7]"
   ]
  },
  {
   "cell_type": "code",
   "execution_count": 69,
   "id": "65391c82",
   "metadata": {},
   "outputs": [
    {
     "data": {
      "text/plain": [
       "[2, 2, 3, 4, 5, 7, 7]"
      ]
     },
     "execution_count": 69,
     "metadata": {},
     "output_type": "execute_result"
    }
   ],
   "source": [
    "a"
   ]
  },
  {
   "cell_type": "code",
   "execution_count": 70,
   "id": "9edcf95c",
   "metadata": {},
   "outputs": [
    {
     "data": {
      "text/plain": [
       "[2, 3, 4, 5, 7]"
      ]
     },
     "execution_count": 70,
     "metadata": {},
     "output_type": "execute_result"
    }
   ],
   "source": [
    "list(set(a))"
   ]
  },
  {
   "cell_type": "code",
   "execution_count": 71,
   "id": "9fb5463e",
   "metadata": {},
   "outputs": [],
   "source": [
    "# Dictionary\n",
    "# kulcs-érték párosok"
   ]
  },
  {
   "cell_type": "code",
   "execution_count": 72,
   "id": "265c8246",
   "metadata": {},
   "outputs": [],
   "source": [
    "d = {\"alma\":\"piros\",'szilva':'lila','citrom':'sárga'}"
   ]
  },
  {
   "cell_type": "code",
   "execution_count": 73,
   "id": "5d306828",
   "metadata": {},
   "outputs": [
    {
     "data": {
      "text/plain": [
       "{'alma': 'piros', 'szilva': 'lila', 'citrom': 'sárga'}"
      ]
     },
     "execution_count": 73,
     "metadata": {},
     "output_type": "execute_result"
    }
   ],
   "source": [
    "d"
   ]
  },
  {
   "cell_type": "code",
   "execution_count": 74,
   "id": "47dfdf45",
   "metadata": {},
   "outputs": [
    {
     "data": {
      "text/plain": [
       "'piros'"
      ]
     },
     "execution_count": 74,
     "metadata": {},
     "output_type": "execute_result"
    }
   ],
   "source": [
    "d['alma']"
   ]
  },
  {
   "cell_type": "code",
   "execution_count": 75,
   "id": "c5fcdbd6",
   "metadata": {},
   "outputs": [
    {
     "data": {
      "text/plain": [
       "'lila'"
      ]
     },
     "execution_count": 75,
     "metadata": {},
     "output_type": "execute_result"
    }
   ],
   "source": [
    "d['szilva']"
   ]
  },
  {
   "cell_type": "code",
   "execution_count": 76,
   "id": "46b7fa0f",
   "metadata": {},
   "outputs": [],
   "source": [
    "d['narancs'] = 'narancssárga'"
   ]
  },
  {
   "cell_type": "code",
   "execution_count": 77,
   "id": "78eaac43",
   "metadata": {},
   "outputs": [
    {
     "data": {
      "text/plain": [
       "{'alma': 'piros',\n",
       " 'szilva': 'lila',\n",
       " 'citrom': 'sárga',\n",
       " 'narancs': 'narancssárga'}"
      ]
     },
     "execution_count": 77,
     "metadata": {},
     "output_type": "execute_result"
    }
   ],
   "source": [
    "d"
   ]
  },
  {
   "cell_type": "code",
   "execution_count": 78,
   "id": "f5e4829f",
   "metadata": {},
   "outputs": [],
   "source": [
    "d[3]=True"
   ]
  },
  {
   "cell_type": "code",
   "execution_count": 79,
   "id": "ea76a3d1",
   "metadata": {},
   "outputs": [
    {
     "data": {
      "text/plain": [
       "{'alma': 'piros',\n",
       " 'szilva': 'lila',\n",
       " 'citrom': 'sárga',\n",
       " 'narancs': 'narancssárga',\n",
       " 3: True}"
      ]
     },
     "execution_count": 79,
     "metadata": {},
     "output_type": "execute_result"
    }
   ],
   "source": [
    "d"
   ]
  },
  {
   "cell_type": "code",
   "execution_count": 80,
   "id": "72f08a83",
   "metadata": {},
   "outputs": [],
   "source": [
    "a=[2, 'alma', [3, 'paprika']]\n",
    "b = (2, [3, 6], 5)\n",
    "c={'alma':5,'narancs':[2,3]}\n",
    "d=[{2:3,4:8},('alma','paradicsom','krumpli'),'hagyma',['négy']]"
   ]
  },
  {
   "cell_type": "code",
   "execution_count": 81,
   "id": "ecef222d",
   "metadata": {},
   "outputs": [
    {
     "data": {
      "text/plain": [
       "2"
      ]
     },
     "execution_count": 81,
     "metadata": {},
     "output_type": "execute_result"
    }
   ],
   "source": [
    "a[0]"
   ]
  },
  {
   "cell_type": "code",
   "execution_count": 82,
   "id": "a91c8bab",
   "metadata": {},
   "outputs": [
    {
     "data": {
      "text/plain": [
       "'paprika'"
      ]
     },
     "execution_count": 82,
     "metadata": {},
     "output_type": "execute_result"
    }
   ],
   "source": [
    "a[2][1]"
   ]
  },
  {
   "cell_type": "code",
   "execution_count": 83,
   "id": "2fbd3860",
   "metadata": {},
   "outputs": [
    {
     "data": {
      "text/plain": [
       "3"
      ]
     },
     "execution_count": 83,
     "metadata": {},
     "output_type": "execute_result"
    }
   ],
   "source": [
    "a[-1][0]"
   ]
  },
  {
   "cell_type": "code",
   "execution_count": 84,
   "id": "abb95d2d",
   "metadata": {},
   "outputs": [
    {
     "data": {
      "text/plain": [
       "[3, 6]"
      ]
     },
     "execution_count": 84,
     "metadata": {},
     "output_type": "execute_result"
    }
   ],
   "source": [
    "b[-2]"
   ]
  },
  {
   "cell_type": "code",
   "execution_count": 85,
   "id": "6ffcd428",
   "metadata": {},
   "outputs": [
    {
     "data": {
      "text/plain": [
       "3"
      ]
     },
     "execution_count": 85,
     "metadata": {},
     "output_type": "execute_result"
    }
   ],
   "source": [
    "c['narancs'][1]"
   ]
  },
  {
   "cell_type": "code",
   "execution_count": 86,
   "id": "356ae954",
   "metadata": {},
   "outputs": [
    {
     "data": {
      "text/plain": [
       "'hagyma'"
      ]
     },
     "execution_count": 86,
     "metadata": {},
     "output_type": "execute_result"
    }
   ],
   "source": [
    "d[2]"
   ]
  },
  {
   "cell_type": "code",
   "execution_count": 87,
   "id": "128c23b3",
   "metadata": {},
   "outputs": [
    {
     "data": {
      "text/plain": [
       "8"
      ]
     },
     "execution_count": 87,
     "metadata": {},
     "output_type": "execute_result"
    }
   ],
   "source": [
    "d[0][4]"
   ]
  },
  {
   "cell_type": "code",
   "execution_count": 88,
   "id": "0217812e",
   "metadata": {},
   "outputs": [
    {
     "data": {
      "text/plain": [
       "'négy'"
      ]
     },
     "execution_count": 88,
     "metadata": {},
     "output_type": "execute_result"
    }
   ],
   "source": [
    "d[-1][0]"
   ]
  },
  {
   "cell_type": "code",
   "execution_count": 89,
   "id": "4845fa11",
   "metadata": {},
   "outputs": [
    {
     "ename": "TypeError",
     "evalue": "'tuple' object does not support item assignment",
     "output_type": "error",
     "traceback": [
      "\u001b[1;31m---------------------------------------------------------------------------\u001b[0m",
      "\u001b[1;31mTypeError\u001b[0m                                 Traceback (most recent call last)",
      "\u001b[1;32m<ipython-input-89-6cceaf40d813>\u001b[0m in \u001b[0;36m<module>\u001b[1;34m\u001b[0m\n\u001b[1;32m----> 1\u001b[1;33m \u001b[0mb\u001b[0m\u001b[1;33m[\u001b[0m\u001b[1;36m1\u001b[0m\u001b[1;33m]\u001b[0m\u001b[1;33m=\u001b[0m\u001b[1;36m4\u001b[0m\u001b[1;33m\u001b[0m\u001b[1;33m\u001b[0m\u001b[0m\n\u001b[0m",
      "\u001b[1;31mTypeError\u001b[0m: 'tuple' object does not support item assignment"
     ]
    }
   ],
   "source": [
    "b[1]=4"
   ]
  },
  {
   "cell_type": "code",
   "execution_count": 90,
   "id": "a4bd7d09",
   "metadata": {},
   "outputs": [],
   "source": [
    "b[1][0]=5"
   ]
  },
  {
   "cell_type": "code",
   "execution_count": 91,
   "id": "21e39657",
   "metadata": {},
   "outputs": [
    {
     "ename": "TypeError",
     "evalue": "'tuple' object does not support item assignment",
     "output_type": "error",
     "traceback": [
      "\u001b[1;31m---------------------------------------------------------------------------\u001b[0m",
      "\u001b[1;31mTypeError\u001b[0m                                 Traceback (most recent call last)",
      "\u001b[1;32m<ipython-input-91-9f44e9bcbffb>\u001b[0m in \u001b[0;36m<module>\u001b[1;34m\u001b[0m\n\u001b[1;32m----> 1\u001b[1;33m \u001b[0md\u001b[0m\u001b[1;33m[\u001b[0m\u001b[1;36m1\u001b[0m\u001b[1;33m]\u001b[0m\u001b[1;33m[\u001b[0m\u001b[1;36m2\u001b[0m\u001b[1;33m]\u001b[0m\u001b[1;33m=\u001b[0m\u001b[1;36m0\u001b[0m\u001b[1;33m\u001b[0m\u001b[1;33m\u001b[0m\u001b[0m\n\u001b[0m",
      "\u001b[1;31mTypeError\u001b[0m: 'tuple' object does not support item assignment"
     ]
    }
   ],
   "source": [
    "d[1][2]=0"
   ]
  },
  {
   "cell_type": "code",
   "execution_count": 92,
   "id": "8034f6bd",
   "metadata": {},
   "outputs": [],
   "source": [
    "d[1]=3"
   ]
  },
  {
   "cell_type": "code",
   "execution_count": 93,
   "id": "3f17b888",
   "metadata": {},
   "outputs": [],
   "source": [
    "c['narancs'] = d[0]"
   ]
  },
  {
   "cell_type": "code",
   "execution_count": 94,
   "id": "11ccb88b",
   "metadata": {},
   "outputs": [
    {
     "data": {
      "text/plain": [
       "{'alma': 5, 'narancs': {2: 3, 4: 8}}"
      ]
     },
     "execution_count": 94,
     "metadata": {},
     "output_type": "execute_result"
    }
   ],
   "source": [
    "c"
   ]
  },
  {
   "cell_type": "code",
   "execution_count": 95,
   "id": "c2328213",
   "metadata": {},
   "outputs": [],
   "source": [
    "# Elágazás"
   ]
  },
  {
   "cell_type": "code",
   "execution_count": 96,
   "id": "24d53b45",
   "metadata": {},
   "outputs": [],
   "source": [
    "a = 5"
   ]
  },
  {
   "cell_type": "code",
   "execution_count": 97,
   "id": "36d52f12",
   "metadata": {},
   "outputs": [
    {
     "name": "stdout",
     "output_type": "stream",
     "text": [
      "a pozitív\n"
     ]
    }
   ],
   "source": [
    "if a>0:\n",
    "    print('a pozitív')\n",
    "else:\n",
    "    print('a nem pozitív')"
   ]
  },
  {
   "cell_type": "code",
   "execution_count": 98,
   "id": "dc635610",
   "metadata": {},
   "outputs": [],
   "source": [
    "a = 0"
   ]
  },
  {
   "cell_type": "code",
   "execution_count": 99,
   "id": "a3f26df6",
   "metadata": {},
   "outputs": [
    {
     "name": "stdout",
     "output_type": "stream",
     "text": [
      "a nulla\n"
     ]
    }
   ],
   "source": [
    "if a>0:\n",
    "    print('a pozitív')\n",
    "elif a==0:\n",
    "    print('a nulla')\n",
    "else:\n",
    "    print('a negatív')"
   ]
  },
  {
   "cell_type": "code",
   "execution_count": 100,
   "id": "de4766e1",
   "metadata": {},
   "outputs": [],
   "source": [
    "a = 5"
   ]
  },
  {
   "cell_type": "code",
   "execution_count": 101,
   "id": "11438385",
   "metadata": {},
   "outputs": [
    {
     "name": "stdout",
     "output_type": "stream",
     "text": [
      "a nagyobb mint 3\n"
     ]
    }
   ],
   "source": [
    "if a>10:\n",
    "    print('a nagyobb mint 10')\n",
    "elif a>7:\n",
    "    print('a nagyobb mint 7')\n",
    "elif a>3:\n",
    "    print('a nagyobb mint 3')\n",
    "elif a>1:\n",
    "    print('a nagyobb int 1')\n",
    "else:\n",
    "    print('a nem nagyobb mint 1')"
   ]
  },
  {
   "cell_type": "code",
   "execution_count": 102,
   "id": "06c6a5ce",
   "metadata": {},
   "outputs": [
    {
     "name": "stdout",
     "output_type": "stream",
     "text": [
      "a nagyobb mint 1\n"
     ]
    }
   ],
   "source": [
    "if a>10:\n",
    "    print('a nagyobb mint 10')\n",
    "elif a>7:\n",
    "    print('a nagyobb mint 7')\n",
    "elif a>1:\n",
    "    print('a nagyobb mint 1')\n",
    "elif a>3:\n",
    "    print('a nagyobb mint 3')\n",
    "else:\n",
    "    print('a nem nagyobb mint 1')"
   ]
  },
  {
   "cell_type": "code",
   "execution_count": 103,
   "id": "9ea75d37",
   "metadata": {},
   "outputs": [
    {
     "name": "stdout",
     "output_type": "stream",
     "text": [
      "3\n",
      "4\n",
      "5\n"
     ]
    }
   ],
   "source": [
    "# FOR ciklus\n",
    "for x in [2, 3, 4]:\n",
    "    print(x+1)"
   ]
  },
  {
   "cell_type": "code",
   "execution_count": 104,
   "id": "5bec8255",
   "metadata": {},
   "outputs": [],
   "source": [
    "a = [1, 2, 3, 4, 5]"
   ]
  },
  {
   "cell_type": "code",
   "execution_count": 105,
   "id": "d30abe5f",
   "metadata": {},
   "outputs": [
    {
     "name": "stdout",
     "output_type": "stream",
     "text": [
      "1\n",
      "4\n",
      "9\n",
      "16\n",
      "25\n"
     ]
    }
   ],
   "source": [
    "for kiscica in a:\n",
    "    print(kiscica**2)"
   ]
  },
  {
   "cell_type": "code",
   "execution_count": 106,
   "id": "1439bd22",
   "metadata": {},
   "outputs": [
    {
     "name": "stdout",
     "output_type": "stream",
     "text": [
      "0\n",
      "1\n",
      "2\n",
      "3\n",
      "4\n"
     ]
    }
   ],
   "source": [
    "for i in range(5):\n",
    "    print(i)"
   ]
  },
  {
   "cell_type": "code",
   "execution_count": 107,
   "id": "c5c5fc3d",
   "metadata": {},
   "outputs": [],
   "source": [
    "negyzet=[]\n",
    "for i in range(10):\n",
    "    negyzet.append(i**2)"
   ]
  },
  {
   "cell_type": "code",
   "execution_count": 108,
   "id": "806cd215",
   "metadata": {},
   "outputs": [
    {
     "data": {
      "text/plain": [
       "[0, 1, 4, 9, 16, 25, 36, 49, 64, 81]"
      ]
     },
     "execution_count": 108,
     "metadata": {},
     "output_type": "execute_result"
    }
   ],
   "source": [
    "negyzet"
   ]
  },
  {
   "cell_type": "code",
   "execution_count": 109,
   "id": "5463b6f8",
   "metadata": {},
   "outputs": [],
   "source": [
    "b = []"
   ]
  },
  {
   "cell_type": "code",
   "execution_count": 110,
   "id": "405c5819",
   "metadata": {},
   "outputs": [],
   "source": [
    "for i in range(len(negyzet)-1):\n",
    "    b.append(negyzet[i]+negyzet[i+1])"
   ]
  },
  {
   "cell_type": "code",
   "execution_count": 111,
   "id": "dcdb1768",
   "metadata": {},
   "outputs": [
    {
     "data": {
      "text/plain": [
       "[1, 5, 13, 25, 41, 61, 85, 113, 145]"
      ]
     },
     "execution_count": 111,
     "metadata": {},
     "output_type": "execute_result"
    }
   ],
   "source": [
    "b"
   ]
  },
  {
   "cell_type": "code",
   "execution_count": 112,
   "id": "4c7d386c",
   "metadata": {},
   "outputs": [],
   "source": [
    "fib = [1, 1]\n",
    "for i in range(20):\n",
    "    fib.append(fib[i]+fib[i+1])"
   ]
  },
  {
   "cell_type": "code",
   "execution_count": 113,
   "id": "51e977e3",
   "metadata": {},
   "outputs": [
    {
     "data": {
      "text/plain": [
       "[1,\n",
       " 1,\n",
       " 2,\n",
       " 3,\n",
       " 5,\n",
       " 8,\n",
       " 13,\n",
       " 21,\n",
       " 34,\n",
       " 55,\n",
       " 89,\n",
       " 144,\n",
       " 233,\n",
       " 377,\n",
       " 610,\n",
       " 987,\n",
       " 1597,\n",
       " 2584,\n",
       " 4181,\n",
       " 6765,\n",
       " 10946,\n",
       " 17711]"
      ]
     },
     "execution_count": 113,
     "metadata": {},
     "output_type": "execute_result"
    }
   ],
   "source": [
    "fib"
   ]
  },
  {
   "cell_type": "code",
   "execution_count": 114,
   "id": "b3970dad",
   "metadata": {},
   "outputs": [
    {
     "name": "stdout",
     "output_type": "stream",
     "text": [
      "4\n",
      "9\n",
      "16\n",
      "25\n"
     ]
    }
   ],
   "source": [
    "for x in (2, 3, 4, 5):\n",
    "    print(x**2)"
   ]
  },
  {
   "cell_type": "code",
   "execution_count": 115,
   "id": "1aa436a4",
   "metadata": {},
   "outputs": [],
   "source": [
    "a = {'alma':'piros','citrom':'sárga'}"
   ]
  },
  {
   "cell_type": "code",
   "execution_count": 116,
   "id": "5efd1b8c",
   "metadata": {},
   "outputs": [
    {
     "data": {
      "text/plain": [
       "dict_keys(['alma', 'citrom'])"
      ]
     },
     "execution_count": 116,
     "metadata": {},
     "output_type": "execute_result"
    }
   ],
   "source": [
    "a.keys()"
   ]
  },
  {
   "cell_type": "code",
   "execution_count": 117,
   "id": "1ad82630",
   "metadata": {},
   "outputs": [
    {
     "name": "stdout",
     "output_type": "stream",
     "text": [
      "alma\n",
      "citrom\n"
     ]
    }
   ],
   "source": [
    "for x in a.keys():\n",
    "    print(x)"
   ]
  },
  {
   "cell_type": "code",
   "execution_count": 118,
   "id": "08cf5a02",
   "metadata": {},
   "outputs": [
    {
     "name": "stdout",
     "output_type": "stream",
     "text": [
      "alma - piros\n",
      "citrom - sárga\n"
     ]
    }
   ],
   "source": [
    "for x in a.keys():\n",
    "    print(x+' - '+a[x])"
   ]
  },
  {
   "cell_type": "code",
   "execution_count": 119,
   "id": "07205b19",
   "metadata": {},
   "outputs": [
    {
     "name": "stdout",
     "output_type": "stream",
     "text": [
      "piros\n",
      "sárga\n"
     ]
    }
   ],
   "source": [
    "for y in a.values():\n",
    "    print(y)"
   ]
  },
  {
   "cell_type": "code",
   "execution_count": 120,
   "id": "48fc7b27",
   "metadata": {},
   "outputs": [
    {
     "name": "stdout",
     "output_type": "stream",
     "text": [
      "('alma', 'piros')\n",
      "('citrom', 'sárga')\n"
     ]
    }
   ],
   "source": [
    "for z in a.items():\n",
    "    print(z)"
   ]
  },
  {
   "cell_type": "code",
   "execution_count": 121,
   "id": "6d9fa78a",
   "metadata": {},
   "outputs": [
    {
     "name": "stdout",
     "output_type": "stream",
     "text": [
      "alma\n",
      "piros\n",
      "citrom\n",
      "sárga\n"
     ]
    }
   ],
   "source": [
    "for kulcs, ertek in a.items():\n",
    "    print(kulcs)\n",
    "    print(ertek)"
   ]
  },
  {
   "cell_type": "code",
   "execution_count": 122,
   "id": "ad273a18",
   "metadata": {},
   "outputs": [
    {
     "name": "stdout",
     "output_type": "stream",
     "text": [
      "vettem a piacon 5 almát\n"
     ]
    }
   ],
   "source": [
    "print('vettem a piacon {} almát'.format(5))"
   ]
  },
  {
   "cell_type": "code",
   "execution_count": 123,
   "id": "eec69663",
   "metadata": {},
   "outputs": [
    {
     "data": {
      "text/plain": [
       "{'alma': 'piros', 'citrom': 'sárga'}"
      ]
     },
     "execution_count": 123,
     "metadata": {},
     "output_type": "execute_result"
    }
   ],
   "source": [
    "a"
   ]
  },
  {
   "cell_type": "code",
   "execution_count": 124,
   "id": "251ac1bf",
   "metadata": {},
   "outputs": [
    {
     "name": "stdout",
     "output_type": "stream",
     "text": [
      "Egy alma színe piros\n",
      "Egy citrom színe sárga\n"
     ]
    }
   ],
   "source": [
    "for gyumolcs, szin in a.items():\n",
    "    print('Egy {} színe {}'.format(gyumolcs,szin))"
   ]
  },
  {
   "cell_type": "code",
   "execution_count": null,
   "id": "d464311d",
   "metadata": {},
   "outputs": [],
   "source": []
  }
 ],
 "metadata": {
  "kernelspec": {
   "display_name": "Python 3",
   "language": "python",
   "name": "python3"
  },
  "language_info": {
   "codemirror_mode": {
    "name": "ipython",
    "version": 3
   },
   "file_extension": ".py",
   "mimetype": "text/x-python",
   "name": "python",
   "nbconvert_exporter": "python",
   "pygments_lexer": "ipython3",
   "version": "3.8.8"
  }
 },
 "nbformat": 4,
 "nbformat_minor": 5
}
