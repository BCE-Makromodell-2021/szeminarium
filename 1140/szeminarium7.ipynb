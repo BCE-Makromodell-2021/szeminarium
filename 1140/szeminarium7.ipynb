{
 "cells": [
  {
   "cell_type": "code",
   "execution_count": 1,
   "id": "f854a51d",
   "metadata": {},
   "outputs": [],
   "source": [
    "# While"
   ]
  },
  {
   "cell_type": "code",
   "execution_count": 2,
   "id": "9753a711",
   "metadata": {},
   "outputs": [
    {
     "name": "stdout",
     "output_type": "stream",
     "text": [
      "még futok...\n",
      "még futok...\n",
      "még futok...\n",
      "még futok...\n",
      "még futok...\n",
      "még futok...\n",
      "még futok...\n",
      "még futok...\n",
      "még futok...\n"
     ]
    }
   ],
   "source": [
    "i = 1\n",
    "while i<10:\n",
    "    i = i+1\n",
    "    print('még futok...')"
   ]
  },
  {
   "cell_type": "code",
   "execution_count": 3,
   "id": "0154281f",
   "metadata": {},
   "outputs": [
    {
     "ename": "KeyboardInterrupt",
     "evalue": "",
     "output_type": "error",
     "traceback": [
      "\u001b[1;31m---------------------------------------------------------------------------\u001b[0m",
      "\u001b[1;31mKeyboardInterrupt\u001b[0m                         Traceback (most recent call last)",
      "\u001b[1;32m<ipython-input-3-c6aef45831ff>\u001b[0m in \u001b[0;36m<module>\u001b[1;34m\u001b[0m\n\u001b[0;32m      1\u001b[0m \u001b[0mi\u001b[0m \u001b[1;33m=\u001b[0m \u001b[1;36m0\u001b[0m\u001b[1;33m\u001b[0m\u001b[1;33m\u001b[0m\u001b[0m\n\u001b[0;32m      2\u001b[0m \u001b[1;32mwhile\u001b[0m \u001b[0mi\u001b[0m\u001b[1;33m<\u001b[0m\u001b[1;36m10\u001b[0m\u001b[1;33m:\u001b[0m\u001b[1;33m\u001b[0m\u001b[1;33m\u001b[0m\u001b[0m\n\u001b[1;32m----> 3\u001b[1;33m     \u001b[0mi\u001b[0m\u001b[1;33m=\u001b[0m\u001b[1;36m1\u001b[0m\u001b[1;33m\u001b[0m\u001b[1;33m\u001b[0m\u001b[0m\n\u001b[0m",
      "\u001b[1;31mKeyboardInterrupt\u001b[0m: "
     ]
    }
   ],
   "source": [
    "i = 0\n",
    "while i<10:\n",
    "    i=1"
   ]
  },
  {
   "cell_type": "code",
   "execution_count": 5,
   "id": "075c7344",
   "metadata": {},
   "outputs": [],
   "source": [
    "negyzetszamok = []\n",
    "i=1\n",
    "while len(negyzetszamok)<20:\n",
    "    if pow(i,0.5)%1==0:\n",
    "        negyzetszamok.append(i)\n",
    "    else:\n",
    "        pass\n",
    "    i = i+1"
   ]
  },
  {
   "cell_type": "code",
   "execution_count": 6,
   "id": "b49c8e75",
   "metadata": {},
   "outputs": [
    {
     "data": {
      "text/plain": [
       "[1,\n",
       " 4,\n",
       " 9,\n",
       " 16,\n",
       " 25,\n",
       " 36,\n",
       " 49,\n",
       " 64,\n",
       " 81,\n",
       " 100,\n",
       " 121,\n",
       " 144,\n",
       " 169,\n",
       " 196,\n",
       " 225,\n",
       " 256,\n",
       " 289,\n",
       " 324,\n",
       " 361,\n",
       " 400]"
      ]
     },
     "execution_count": 6,
     "metadata": {},
     "output_type": "execute_result"
    }
   ],
   "source": [
    "negyzetszamok"
   ]
  },
  {
   "cell_type": "code",
   "execution_count": 7,
   "id": "596ed0f4",
   "metadata": {},
   "outputs": [],
   "source": [
    "n = []\n",
    "for x in range(20):\n",
    "    n.append((x+1)**2)\n"
   ]
  },
  {
   "cell_type": "code",
   "execution_count": 8,
   "id": "fa61fcd2",
   "metadata": {},
   "outputs": [
    {
     "data": {
      "text/plain": [
       "[1,\n",
       " 4,\n",
       " 9,\n",
       " 16,\n",
       " 25,\n",
       " 36,\n",
       " 49,\n",
       " 64,\n",
       " 81,\n",
       " 100,\n",
       " 121,\n",
       " 144,\n",
       " 169,\n",
       " 196,\n",
       " 225,\n",
       " 256,\n",
       " 289,\n",
       " 324,\n",
       " 361,\n",
       " 400]"
      ]
     },
     "execution_count": 8,
     "metadata": {},
     "output_type": "execute_result"
    }
   ],
   "source": [
    "n"
   ]
  },
  {
   "cell_type": "code",
   "execution_count": 9,
   "id": "9b67e253",
   "metadata": {},
   "outputs": [
    {
     "name": "stdout",
     "output_type": "stream",
     "text": [
      "0\n",
      "1\n",
      "2\n",
      "3\n",
      "4\n",
      "5\n"
     ]
    }
   ],
   "source": [
    "# Break: megszakítja a for/while ciklust\n",
    "for i in range(100):\n",
    "    if i>5:\n",
    "        break\n",
    "    else:\n",
    "        print(i)"
   ]
  },
  {
   "cell_type": "code",
   "execution_count": 10,
   "id": "c47e7971",
   "metadata": {},
   "outputs": [],
   "source": [
    "i = 0\n",
    "while True:\n",
    "    i = i+1\n",
    "    if i>4:\n",
    "        break\n",
    "    else:\n",
    "        pass"
   ]
  },
  {
   "cell_type": "code",
   "execution_count": 14,
   "id": "c923df3c",
   "metadata": {},
   "outputs": [
    {
     "name": "stdout",
     "output_type": "stream",
     "text": [
      "1\n",
      "1\n",
      "3\n",
      "3\n",
      "5\n",
      "5\n",
      "7\n",
      "7\n",
      "9\n",
      "9\n"
     ]
    }
   ],
   "source": [
    "# Continue: ugrás a következő elemre\n",
    "for i in range(10):\n",
    "    if i%2==0:\n",
    "        continue\n",
    "    else:\n",
    "        print(i)\n",
    "    print(i)"
   ]
  },
  {
   "cell_type": "code",
   "execution_count": 15,
   "id": "9549d3b1",
   "metadata": {},
   "outputs": [],
   "source": [
    "# List comprehension\n",
    "a = [2,3,4]"
   ]
  },
  {
   "cell_type": "code",
   "execution_count": 16,
   "id": "5fb7f6ab",
   "metadata": {},
   "outputs": [
    {
     "data": {
      "text/plain": [
       "[4, 9, 16]"
      ]
     },
     "execution_count": 16,
     "metadata": {},
     "output_type": "execute_result"
    }
   ],
   "source": [
    "[x**2 for x in a]"
   ]
  },
  {
   "cell_type": "code",
   "execution_count": 17,
   "id": "53a34e12",
   "metadata": {},
   "outputs": [],
   "source": [
    "b = [-2, -1, 0, 1, 2]"
   ]
  },
  {
   "cell_type": "code",
   "execution_count": 18,
   "id": "2ba24f37",
   "metadata": {},
   "outputs": [
    {
     "data": {
      "text/plain": [
       "[0, 0, 0, 1, 2]"
      ]
     },
     "execution_count": 18,
     "metadata": {},
     "output_type": "execute_result"
    }
   ],
   "source": [
    "[x if x>0 else 0 for x in b]"
   ]
  },
  {
   "cell_type": "code",
   "execution_count": 19,
   "id": "2cbf4c53",
   "metadata": {},
   "outputs": [
    {
     "name": "stdout",
     "output_type": "stream",
     "text": [
      "[0, 0, 0, 0, 0, 0, 0, 0, 0, 0, 0]\n",
      "[0, 1, 2, 3, 4, 5, 6, 7, 8, 9, 10]\n",
      "[0, 2, 4, 6, 8, 10, 12, 14, 16, 18, 20]\n",
      "[0, 3, 6, 9, 12, 15, 18, 21, 24, 27, 30]\n",
      "[0, 4, 8, 12, 16, 20, 24, 28, 32, 36, 40]\n",
      "[0, 5, 10, 15, 20, 25, 30, 35, 40, 45, 50]\n",
      "[0, 6, 12, 18, 24, 30, 36, 42, 48, 54, 60]\n",
      "[0, 7, 14, 21, 28, 35, 42, 49, 56, 63, 70]\n",
      "[0, 8, 16, 24, 32, 40, 48, 56, 64, 72, 80]\n",
      "[0, 9, 18, 27, 36, 45, 54, 63, 72, 81, 90]\n",
      "[0, 10, 20, 30, 40, 50, 60, 70, 80, 90, 100]\n"
     ]
    },
    {
     "data": {
      "text/plain": [
       "[None, None, None, None, None, None, None, None, None, None, None]"
      ]
     },
     "execution_count": 19,
     "metadata": {},
     "output_type": "execute_result"
    }
   ],
   "source": [
    "[print([i*j for i in range(11)]) for j in range(11)]"
   ]
  },
  {
   "cell_type": "code",
   "execution_count": 20,
   "id": "0698c454",
   "metadata": {},
   "outputs": [],
   "source": [
    "def negyzet(x):\n",
    "    y = x**2\n",
    "    return y"
   ]
  },
  {
   "cell_type": "code",
   "execution_count": 21,
   "id": "4f4aa3e1",
   "metadata": {},
   "outputs": [
    {
     "data": {
      "text/plain": [
       "13.838400000000002"
      ]
     },
     "execution_count": 21,
     "metadata": {},
     "output_type": "execute_result"
    }
   ],
   "source": [
    "negyzet(3.72)"
   ]
  },
  {
   "cell_type": "code",
   "execution_count": 22,
   "id": "099111ba",
   "metadata": {},
   "outputs": [],
   "source": [
    "def negyzet2(x):\n",
    "    return x**2"
   ]
  },
  {
   "cell_type": "code",
   "execution_count": 23,
   "id": "ef15777e",
   "metadata": {},
   "outputs": [
    {
     "data": {
      "text/plain": [
       "9"
      ]
     },
     "execution_count": 23,
     "metadata": {},
     "output_type": "execute_result"
    }
   ],
   "source": [
    "negyzet2(3)"
   ]
  },
  {
   "cell_type": "code",
   "execution_count": 24,
   "id": "15e224c4",
   "metadata": {},
   "outputs": [],
   "source": [
    "def osszead(a,b):\n",
    "    return a+b"
   ]
  },
  {
   "cell_type": "code",
   "execution_count": 25,
   "id": "d0d464b1",
   "metadata": {},
   "outputs": [
    {
     "data": {
      "text/plain": [
       "5"
      ]
     },
     "execution_count": 25,
     "metadata": {},
     "output_type": "execute_result"
    }
   ],
   "source": [
    "osszead(2,3)"
   ]
  },
  {
   "cell_type": "code",
   "execution_count": 26,
   "id": "f2a5d436",
   "metadata": {},
   "outputs": [],
   "source": [
    "def tortresz(x):\n",
    "    egeszresz = x//1\n",
    "    tortresz = x%1\n",
    "    return [egeszresz, tortresz]"
   ]
  },
  {
   "cell_type": "code",
   "execution_count": 27,
   "id": "017a5c40",
   "metadata": {},
   "outputs": [
    {
     "data": {
      "text/plain": [
       "[3.0, 0.2200000000000002]"
      ]
     },
     "execution_count": 27,
     "metadata": {},
     "output_type": "execute_result"
    }
   ],
   "source": [
    "tortresz(3.22)"
   ]
  },
  {
   "cell_type": "code",
   "execution_count": 28,
   "id": "184a24db",
   "metadata": {},
   "outputs": [
    {
     "data": {
      "text/plain": [
       "[-4.0, 0.8599999999999999]"
      ]
     },
     "execution_count": 28,
     "metadata": {},
     "output_type": "execute_result"
    }
   ],
   "source": [
    "tortresz(-3.14)"
   ]
  },
  {
   "cell_type": "code",
   "execution_count": null,
   "id": "d74872b9",
   "metadata": {},
   "outputs": [],
   "source": []
  }
 ],
 "metadata": {
  "kernelspec": {
   "display_name": "Python 3",
   "language": "python",
   "name": "python3"
  },
  "language_info": {
   "codemirror_mode": {
    "name": "ipython",
    "version": 3
   },
   "file_extension": ".py",
   "mimetype": "text/x-python",
   "name": "python",
   "nbconvert_exporter": "python",
   "pygments_lexer": "ipython3",
   "version": "3.8.8"
  }
 },
 "nbformat": 4,
 "nbformat_minor": 5
}
