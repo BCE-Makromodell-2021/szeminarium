{
 "cells": [
  {
   "cell_type": "code",
   "execution_count": 4,
   "id": "8e2da123",
   "metadata": {},
   "outputs": [
    {
     "data": {
      "text/plain": [
       "array([4.])"
      ]
     },
     "execution_count": 4,
     "metadata": {},
     "output_type": "execute_result"
    }
   ],
   "source": [
    "# Függvény: f(x) = a-x^2\n",
    "from scipy.optimize import fsolve\n",
    "\n",
    "a=16\n",
    "def fv(x):\n",
    "    return a-x**2\n",
    "\n",
    "fsolve(fv, 5)"
   ]
  },
  {
   "cell_type": "code",
   "execution_count": 5,
   "id": "714aaf37",
   "metadata": {},
   "outputs": [],
   "source": [
    "def parameteres(a):\n",
    "    def fv(x):\n",
    "        return a-x**2\n",
    "    return fsolve(fv, 5)"
   ]
  },
  {
   "cell_type": "code",
   "execution_count": 6,
   "id": "f4866b60",
   "metadata": {},
   "outputs": [
    {
     "data": {
      "text/plain": [
       "array([7.])"
      ]
     },
     "execution_count": 6,
     "metadata": {},
     "output_type": "execute_result"
    }
   ],
   "source": [
    "parameteres(49)"
   ]
  },
  {
   "cell_type": "code",
   "execution_count": 7,
   "id": "fe7e1ed4",
   "metadata": {},
   "outputs": [],
   "source": [
    "def altfv(x, a):\n",
    "    return a-x**2"
   ]
  },
  {
   "cell_type": "code",
   "execution_count": 9,
   "id": "8fb7b362",
   "metadata": {},
   "outputs": [
    {
     "data": {
      "text/plain": [
       "(array([3.16227766]),\n",
       " {'nfev': 10,\n",
       "  'fjac': array([[-1.]]),\n",
       "  'r': array([6.32456205]),\n",
       "  'qtf': array([8.54661408e-09]),\n",
       "  'fvec': array([-8.8817842e-15])},\n",
       " 1,\n",
       " 'The solution converged.')"
      ]
     },
     "execution_count": 9,
     "metadata": {},
     "output_type": "execute_result"
    }
   ],
   "source": [
    "fsolve(altfv, 10, args=10, full_output=True)"
   ]
  },
  {
   "cell_type": "code",
   "execution_count": 11,
   "id": "c7115268",
   "metadata": {},
   "outputs": [],
   "source": [
    "# 16 idoszak\n",
    "# Y1 = 25\n",
    "# Y(t+1) = Y(t)*0.98\n",
    "# C(t)=C\n",
    "# r=0.01\n",
    "# 7. idoszakban varatlanul 10-zel tobb a jovedelme."
   ]
  },
  {
   "cell_type": "code",
   "execution_count": 12,
   "id": "2ca56102",
   "metadata": {},
   "outputs": [],
   "source": [
    "r = 0.01\n",
    "Y = [25]\n",
    "\n",
    "for i in range(15):\n",
    "    Y.append(Y[-1]*0.98)"
   ]
  },
  {
   "cell_type": "code",
   "execution_count": 14,
   "id": "9e897620",
   "metadata": {},
   "outputs": [],
   "source": [
    "Yjelen = 0"
   ]
  },
  {
   "cell_type": "code",
   "execution_count": 15,
   "id": "7924298d",
   "metadata": {},
   "outputs": [],
   "source": [
    "for i in range(16):\n",
    "    Yjelen = Yjelen + Y[i]/(1+r)**i"
   ]
  },
  {
   "cell_type": "code",
   "execution_count": 16,
   "id": "6aa2f2f8",
   "metadata": {},
   "outputs": [
    {
     "data": {
      "text/plain": [
       "322.13101123806314"
      ]
     },
     "execution_count": 16,
     "metadata": {},
     "output_type": "execute_result"
    }
   ],
   "source": [
    "Yjelen"
   ]
  },
  {
   "cell_type": "code",
   "execution_count": 17,
   "id": "d5fb5db2",
   "metadata": {},
   "outputs": [],
   "source": [
    "sumdf=0"
   ]
  },
  {
   "cell_type": "code",
   "execution_count": 18,
   "id": "97cc7e40",
   "metadata": {},
   "outputs": [],
   "source": [
    "for i in range(16):\n",
    "    sumdf = sumdf + 1/(1+r)**i"
   ]
  },
  {
   "cell_type": "code",
   "execution_count": 19,
   "id": "0724a411",
   "metadata": {},
   "outputs": [],
   "source": [
    "C = Yjelen/sumdf"
   ]
  },
  {
   "cell_type": "code",
   "execution_count": 20,
   "id": "c0c133ce",
   "metadata": {},
   "outputs": [
    {
     "data": {
      "text/plain": [
       "21.67035810106653"
      ]
     },
     "execution_count": 20,
     "metadata": {},
     "output_type": "execute_result"
    }
   ],
   "source": [
    "C"
   ]
  },
  {
   "cell_type": "code",
   "execution_count": 22,
   "id": "6c57d34d",
   "metadata": {},
   "outputs": [],
   "source": [
    "B = [0]"
   ]
  },
  {
   "cell_type": "code",
   "execution_count": 23,
   "id": "0e3e9e71",
   "metadata": {},
   "outputs": [],
   "source": [
    "for i in range(6):\n",
    "    B.append(B[-1]*(1+r)+Y[i]-C)"
   ]
  },
  {
   "cell_type": "code",
   "execution_count": 24,
   "id": "f170a095",
   "metadata": {},
   "outputs": [
    {
     "data": {
      "text/plain": [
       "[0,\n",
       " 3.3296418989334704,\n",
       " 6.192580216856275,\n",
       " 8.594147917958306,\n",
       " 10.539531296071356,\n",
       " 12.033772507965534,\n",
       " 13.081772051978657]"
      ]
     },
     "execution_count": 24,
     "metadata": {},
     "output_type": "execute_result"
    }
   ],
   "source": [
    "B"
   ]
  },
  {
   "cell_type": "code",
   "execution_count": 26,
   "id": "b4ec37b7",
   "metadata": {},
   "outputs": [
    {
     "data": {
      "text/plain": [
       "21.67035810106653"
      ]
     },
     "execution_count": 26,
     "metadata": {},
     "output_type": "execute_result"
    }
   ],
   "source": [
    "C"
   ]
  },
  {
   "cell_type": "code",
   "execution_count": 27,
   "id": "d39e9430",
   "metadata": {},
   "outputs": [],
   "source": [
    "# 7. idoszak eleje\n",
    "megtakaritas = B[-1]*(1+r)"
   ]
  },
  {
   "cell_type": "code",
   "execution_count": 28,
   "id": "97ae3245",
   "metadata": {},
   "outputs": [],
   "source": [
    "# 7. idoszakot 0. idoszakkent kezelem\n",
    "Yuj = Y[6:]"
   ]
  },
  {
   "cell_type": "code",
   "execution_count": 30,
   "id": "6ab7b175",
   "metadata": {},
   "outputs": [],
   "source": [
    "Yuj[0] = Yuj[0]+10"
   ]
  },
  {
   "cell_type": "code",
   "execution_count": 31,
   "id": "a50ff7df",
   "metadata": {},
   "outputs": [
    {
     "data": {
      "text/plain": [
       "[32.146059521599994,\n",
       " 21.703138331168,\n",
       " 21.26907556454464,\n",
       " 20.843694053253746,\n",
       " 20.42682017218867,\n",
       " 20.018283768744897,\n",
       " 19.617918093369997,\n",
       " 19.225559731502596,\n",
       " 18.841048536872545,\n",
       " 18.464227566135094]"
      ]
     },
     "execution_count": 31,
     "metadata": {},
     "output_type": "execute_result"
    }
   ],
   "source": [
    "Yuj"
   ]
  },
  {
   "cell_type": "code",
   "execution_count": 34,
   "id": "28c259b4",
   "metadata": {},
   "outputs": [],
   "source": [
    "Yjelenuj = megtakaritas\n",
    "for i in range(10):\n",
    "    Yjelenuj = Yjelenuj + Yuj[i]/(1+r)**i"
   ]
  },
  {
   "cell_type": "code",
   "execution_count": 33,
   "id": "80fdb9f4",
   "metadata": {},
   "outputs": [],
   "source": [
    "sumdfuj = 0\n",
    "for i in range(10):\n",
    "    sumdfuj = sumdfuj + 1/(1+r)**i"
   ]
  },
  {
   "cell_type": "code",
   "execution_count": 35,
   "id": "8b7163d2",
   "metadata": {},
   "outputs": [],
   "source": [
    "Cuj = Yjelenuj/sumdfuj"
   ]
  },
  {
   "cell_type": "code",
   "execution_count": 36,
   "id": "12ff5135",
   "metadata": {},
   "outputs": [
    {
     "data": {
      "text/plain": [
       "21.67035810106653"
      ]
     },
     "execution_count": 36,
     "metadata": {},
     "output_type": "execute_result"
    }
   ],
   "source": [
    "C"
   ]
  },
  {
   "cell_type": "code",
   "execution_count": 37,
   "id": "0f6bb668",
   "metadata": {},
   "outputs": [
    {
     "data": {
      "text/plain": [
       "22.715725195632594"
      ]
     },
     "execution_count": 37,
     "metadata": {},
     "output_type": "execute_result"
    }
   ],
   "source": [
    "Cuj"
   ]
  },
  {
   "cell_type": "code",
   "execution_count": 38,
   "id": "f4900dce",
   "metadata": {},
   "outputs": [],
   "source": [
    "for i in range(10):\n",
    "    B.append(B[-1]*(1+r)+Yuj[i]-Cuj)"
   ]
  },
  {
   "cell_type": "code",
   "execution_count": 39,
   "id": "db8c797e",
   "metadata": {},
   "outputs": [
    {
     "data": {
      "text/plain": [
       "[0,\n",
       " 3.3296418989334704,\n",
       " 6.192580216856275,\n",
       " 8.594147917958306,\n",
       " 10.539531296071356,\n",
       " 12.033772507965534,\n",
       " 13.081772051978657,\n",
       " 22.642924098465848,\n",
       " 21.85676647498591,\n",
       " 20.628684508647815,\n",
       " 18.962940211355445,\n",
       " 16.863664590025074,\n",
       " 14.334859809037631,\n",
       " 11.380401304865408,\n",
       " 8.004039853784064,\n",
       " 4.209403593561859,\n",
       " -2.1316282072803006e-14]"
      ]
     },
     "execution_count": 39,
     "metadata": {},
     "output_type": "execute_result"
    }
   ],
   "source": [
    "B"
   ]
  },
  {
   "cell_type": "code",
   "execution_count": null,
   "id": "7ef47398",
   "metadata": {},
   "outputs": [],
   "source": []
  }
 ],
 "metadata": {
  "kernelspec": {
   "display_name": "Python 3 (ipykernel)",
   "language": "python",
   "name": "python3"
  },
  "language_info": {
   "codemirror_mode": {
    "name": "ipython",
    "version": 3
   },
   "file_extension": ".py",
   "mimetype": "text/x-python",
   "name": "python",
   "nbconvert_exporter": "python",
   "pygments_lexer": "ipython3",
   "version": "3.9.2"
  }
 },
 "nbformat": 4,
 "nbformat_minor": 5
}
