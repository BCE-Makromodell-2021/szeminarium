{
 "cells": [
  {
   "cell_type": "code",
   "execution_count": 1,
   "id": "a12d624a",
   "metadata": {},
   "outputs": [],
   "source": [
    "# Fuggveny: f(x) = a-x\n",
    "from scipy.optimize import fsolve\n",
    "\n",
    "def megold(a):\n",
    "    def fvfsolvehoz(x):\n",
    "        return a-x\n",
    "    return fsolve(fvfsolvehoz, 0)"
   ]
  },
  {
   "cell_type": "code",
   "execution_count": 2,
   "id": "3aaf0437",
   "metadata": {},
   "outputs": [
    {
     "data": {
      "text/plain": [
       "array([10.])"
      ]
     },
     "execution_count": 2,
     "metadata": {},
     "output_type": "execute_result"
    }
   ],
   "source": [
    "megold(10)"
   ]
  },
  {
   "cell_type": "code",
   "execution_count": 3,
   "id": "544932cb",
   "metadata": {},
   "outputs": [
    {
     "data": {
      "text/plain": [
       "array([15.])"
      ]
     },
     "execution_count": 3,
     "metadata": {},
     "output_type": "execute_result"
    }
   ],
   "source": [
    "megold(15)"
   ]
  },
  {
   "cell_type": "code",
   "execution_count": 4,
   "id": "b23aef5e",
   "metadata": {},
   "outputs": [],
   "source": [
    "def megoldas(x, a):\n",
    "    return x-a"
   ]
  },
  {
   "cell_type": "code",
   "execution_count": 5,
   "id": "10708ea0",
   "metadata": {},
   "outputs": [
    {
     "data": {
      "text/plain": [
       "array([8.])"
      ]
     },
     "execution_count": 5,
     "metadata": {},
     "output_type": "execute_result"
    }
   ],
   "source": [
    "fsolve(megoldas, 10, args=8)"
   ]
  },
  {
   "cell_type": "code",
   "execution_count": 6,
   "id": "ed9153c2",
   "metadata": {},
   "outputs": [],
   "source": [
    "def megoldas2(x, a):\n",
    "    b=a[0]\n",
    "    c=a[1]\n",
    "    return x-b-c"
   ]
  },
  {
   "cell_type": "code",
   "execution_count": 7,
   "id": "a6f7df25",
   "metadata": {},
   "outputs": [
    {
     "data": {
      "text/plain": [
       "array([5.])"
      ]
     },
     "execution_count": 7,
     "metadata": {},
     "output_type": "execute_result"
    }
   ],
   "source": [
    "fsolve(megoldas2, 10, args=[2, 3])"
   ]
  },
  {
   "cell_type": "code",
   "execution_count": 8,
   "id": "48888e3c",
   "metadata": {},
   "outputs": [
    {
     "name": "stdout",
     "output_type": "stream",
     "text": [
      "[11.]\n",
      "[26.]\n",
      "[50.]\n"
     ]
    }
   ],
   "source": [
    "iterable=[[3,5,6],[4,10,16],[5,20,30]]\n",
    "for i in iterable:\n",
    "    print(fsolve(megoldas2, i[0], args=i[1:]))"
   ]
  },
  {
   "cell_type": "code",
   "execution_count": 9,
   "id": "429670a4",
   "metadata": {},
   "outputs": [],
   "source": [
    "# Y1 = 72\n",
    "# Y(t+1) = Y(t)*1.03\n",
    "# T = 12\n",
    "# C(t)=C\n",
    "# r=0.02\n",
    "# 5. idoszakban -20\n",
    "\n",
    "# 1. idoszakban\n",
    "r=0.02\n",
    "Y = [72]\n",
    "for i in range(11):\n",
    "    Y.append(Y[-1]*1.03)\n",
    "    \n",
    "Yjelen = 0\n",
    "for i in range(12):\n",
    "    Yjelen = Yjelen+Y[i]/(1+r)**i\n",
    "    \n",
    "sumdf = 0\n",
    "for i in range(12):\n",
    "    sumdf = sumdf + 1/(1+r)**i\n",
    "\n",
    "C = Yjelen/sumdf\n",
    "\n",
    "B = [0]\n",
    "for i in range(4):\n",
    "    B.append(B[-1]*(1+r)+Y[i]-C)"
   ]
  },
  {
   "cell_type": "code",
   "execution_count": 10,
   "id": "63d43e24",
   "metadata": {},
   "outputs": [
    {
     "data": {
      "text/plain": [
       "[72,\n",
       " 74.16,\n",
       " 76.3848,\n",
       " 78.676344,\n",
       " 81.03663432,\n",
       " 83.46773334960001,\n",
       " 85.971765350088,\n",
       " 88.55091831059065,\n",
       " 91.20744585990836,\n",
       " 93.94366923570561,\n",
       " 96.76197931277679,\n",
       " 99.66483869216009]"
      ]
     },
     "execution_count": 10,
     "metadata": {},
     "output_type": "execute_result"
    }
   ],
   "source": [
    "Y"
   ]
  },
  {
   "cell_type": "code",
   "execution_count": 11,
   "id": "d6a96d06",
   "metadata": {},
   "outputs": [
    {
     "data": {
      "text/plain": [
       "84.56083186378459"
      ]
     },
     "execution_count": 11,
     "metadata": {},
     "output_type": "execute_result"
    }
   ],
   "source": [
    "C"
   ]
  },
  {
   "cell_type": "code",
   "execution_count": 12,
   "id": "e40669d7",
   "metadata": {},
   "outputs": [
    {
     "data": {
      "text/plain": [
       "[0,\n",
       " -12.560831863784585,\n",
       " -23.212880364844864,\n",
       " -31.85316983592635,\n",
       " -38.37472109642946]"
      ]
     },
     "execution_count": 12,
     "metadata": {},
     "output_type": "execute_result"
    }
   ],
   "source": [
    "B"
   ]
  },
  {
   "cell_type": "code",
   "execution_count": 13,
   "id": "2accd930",
   "metadata": {},
   "outputs": [],
   "source": [
    "# 5. idoszak\n",
    "Yuj = Y[4:]"
   ]
  },
  {
   "cell_type": "code",
   "execution_count": 14,
   "id": "e229fe14",
   "metadata": {},
   "outputs": [
    {
     "data": {
      "text/plain": [
       "[81.03663432,\n",
       " 83.46773334960001,\n",
       " 85.971765350088,\n",
       " 88.55091831059065,\n",
       " 91.20744585990836,\n",
       " 93.94366923570561,\n",
       " 96.76197931277679,\n",
       " 99.66483869216009]"
      ]
     },
     "execution_count": 14,
     "metadata": {},
     "output_type": "execute_result"
    }
   ],
   "source": [
    "Yuj"
   ]
  },
  {
   "cell_type": "code",
   "execution_count": 15,
   "id": "fe76dd13",
   "metadata": {},
   "outputs": [],
   "source": [
    "Yuj[0] = Yuj[0]-20"
   ]
  },
  {
   "cell_type": "code",
   "execution_count": 16,
   "id": "c880cec7",
   "metadata": {},
   "outputs": [
    {
     "data": {
      "text/plain": [
       "[61.036634320000005,\n",
       " 83.46773334960001,\n",
       " 85.971765350088,\n",
       " 88.55091831059065,\n",
       " 91.20744585990836,\n",
       " 93.94366923570561,\n",
       " 96.76197931277679,\n",
       " 99.66483869216009]"
      ]
     },
     "execution_count": 16,
     "metadata": {},
     "output_type": "execute_result"
    }
   ],
   "source": [
    "Yuj"
   ]
  },
  {
   "cell_type": "code",
   "execution_count": 17,
   "id": "c3ed7746",
   "metadata": {},
   "outputs": [],
   "source": [
    "megtakaritas = B[-1]*(1+r)"
   ]
  },
  {
   "cell_type": "code",
   "execution_count": 18,
   "id": "e318eef4",
   "metadata": {},
   "outputs": [],
   "source": [
    "Yjelen = megtakaritas\n",
    "for i in range(8):\n",
    "    Yjelen = Yjelen+Yuj[i]/(1+r)**i\n",
    "    \n",
    "sumdf = 0\n",
    "for i in range(8):\n",
    "    sumdf = sumdf + 1/(1+r)**i\n",
    "\n",
    "C2 = Yjelen/sumdf"
   ]
  },
  {
   "cell_type": "code",
   "execution_count": 19,
   "id": "8879a8c4",
   "metadata": {},
   "outputs": [
    {
     "data": {
      "text/plain": [
       "81.8841691356716"
      ]
     },
     "execution_count": 19,
     "metadata": {},
     "output_type": "execute_result"
    }
   ],
   "source": [
    "C2"
   ]
  },
  {
   "cell_type": "code",
   "execution_count": 20,
   "id": "bc57acad",
   "metadata": {},
   "outputs": [
    {
     "data": {
      "text/plain": [
       "84.56083186378459"
      ]
     },
     "execution_count": 20,
     "metadata": {},
     "output_type": "execute_result"
    }
   ],
   "source": [
    "C"
   ]
  },
  {
   "cell_type": "code",
   "execution_count": 21,
   "id": "a7a22f6b",
   "metadata": {},
   "outputs": [],
   "source": [
    "for i in range(8):\n",
    "    B.append(B[-1]*(1+r)+Yuj[i]-C2)"
   ]
  },
  {
   "cell_type": "code",
   "execution_count": 22,
   "id": "d92481c7",
   "metadata": {},
   "outputs": [
    {
     "data": {
      "text/plain": [
       "[0,\n",
       " -12.560831863784585,\n",
       " -23.212880364844864,\n",
       " -31.85316983592635,\n",
       " -38.37472109642946,\n",
       " -59.989750334029644,\n",
       " -59.60598112678183,\n",
       " -56.710504534901055,\n",
       " -51.17796545068003,\n",
       " -42.87824803545686,\n",
       " -31.67631289613199,\n",
       " -17.43202897694944,\n",
       " 5.684341886080802e-14]"
      ]
     },
     "execution_count": 22,
     "metadata": {},
     "output_type": "execute_result"
    }
   ],
   "source": [
    "B"
   ]
  },
  {
   "cell_type": "code",
   "execution_count": 26,
   "id": "4667e5ff",
   "metadata": {},
   "outputs": [
    {
     "name": "stdout",
     "output_type": "stream",
     "text": [
      "0\n",
      "1\n",
      "2\n",
      "3\n",
      "4\n",
      "5\n",
      "6\n",
      "7\n",
      "8\n",
      "9\n",
      "10\n",
      "11\n",
      "12\n",
      "13\n",
      "14\n",
      "15\n",
      "16\n",
      "17\n",
      "18\n",
      "19\n",
      "20\n",
      "21\n",
      "22\n",
      "23\n",
      "24\n",
      "25\n",
      "26\n",
      "27\n",
      "28\n",
      "29\n",
      "30\n",
      "31\n",
      "32\n",
      "33\n",
      "34\n"
     ]
    }
   ],
   "source": [
    "for i in range(100):\n",
    "    print(i)\n",
    "    if i==34:\n",
    "        break\n",
    "    else:\n",
    "        continue\n",
    "    print('a')"
   ]
  },
  {
   "cell_type": "code",
   "execution_count": null,
   "id": "f520c156",
   "metadata": {},
   "outputs": [],
   "source": []
  }
 ],
 "metadata": {
  "kernelspec": {
   "display_name": "Python 3",
   "language": "python",
   "name": "python3"
  },
  "language_info": {
   "codemirror_mode": {
    "name": "ipython",
    "version": 3
   },
   "file_extension": ".py",
   "mimetype": "text/x-python",
   "name": "python",
   "nbconvert_exporter": "python",
   "pygments_lexer": "ipython3",
   "version": "3.8.8"
  }
 },
 "nbformat": 4,
 "nbformat_minor": 5
}
