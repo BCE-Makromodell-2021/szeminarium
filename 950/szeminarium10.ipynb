{
 "cells": [
  {
   "cell_type": "code",
   "execution_count": 2,
   "id": "4b146015",
   "metadata": {},
   "outputs": [],
   "source": [
    "alpha=0.44\n",
    "beta=0.964\n",
    "delta=0.054\n",
    "\n",
    "theta=1.5\n",
    "psi=0\n",
    "rho=0.85\n",
    "sigma=0.05\n",
    "\n",
    "omega=alpha*beta/(1-beta*(1-delta))"
   ]
  },
  {
   "cell_type": "code",
   "execution_count": 3,
   "id": "3d2cc1f6",
   "metadata": {},
   "outputs": [],
   "source": [
    "import numpy as np"
   ]
  },
  {
   "cell_type": "code",
   "execution_count": 6,
   "id": "607d58a6",
   "metadata": {},
   "outputs": [],
   "source": [
    "A = np.matrix([0, 1, 0, 0, 0, 0]).T\n",
    "B = np.matrix([0, -(1-delta), -alpha, 0, -alpha*beta/omega, 0]).T\n",
    "C = np.matrix([\n",
    "    [1, 0, -(1-delta*omega), -delta*omega, 0, 0],\n",
    "    [0, 0, 0, -delta, 0, 0],\n",
    "    [1, -(1-alpha), 0, 0, 0, 0],\n",
    "    [1, -1, 0, 0, 0, -1],\n",
    "    [alpha*beta/omega, 0, 0, 0, -1, 0],\n",
    "    [0, psi, theta, 0, 0, -1]\n",
    "])\n",
    "D = np.matrix([0,0,-1,0,0,0]).T\n",
    "F = np.matrix([0])\n",
    "G = np.matrix([0])\n",
    "H = np.matrix([0])\n",
    "J = np.matrix([0, 0, 1, 0, -1/theta, 0]).T\n",
    "K = np.matrix([0, 0, -1, 0, 0, 0]).T\n",
    "L = np.matrix([0])\n",
    "M = np.matrix([0])\n",
    "N = np.matrix([rho])"
   ]
  },
  {
   "cell_type": "code",
   "execution_count": null,
   "id": "8d3a8778",
   "metadata": {},
   "outputs": [],
   "source": []
  }
 ],
 "metadata": {
  "kernelspec": {
   "display_name": "Python 3",
   "language": "python",
   "name": "python3"
  },
  "language_info": {
   "codemirror_mode": {
    "name": "ipython",
    "version": 3
   },
   "file_extension": ".py",
   "mimetype": "text/x-python",
   "name": "python",
   "nbconvert_exporter": "python",
   "pygments_lexer": "ipython3",
   "version": "3.8.8"
  }
 },
 "nbformat": 4,
 "nbformat_minor": 5
}
