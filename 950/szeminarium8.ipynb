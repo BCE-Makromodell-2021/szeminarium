{
 "cells": [
  {
   "cell_type": "code",
   "execution_count": 1,
   "id": "8e7a46d4",
   "metadata": {},
   "outputs": [],
   "source": [
    "import math"
   ]
  },
  {
   "cell_type": "code",
   "execution_count": 2,
   "id": "5213a3f6",
   "metadata": {},
   "outputs": [
    {
     "data": {
      "text/plain": [
       "3.141592653589793"
      ]
     },
     "execution_count": 2,
     "metadata": {},
     "output_type": "execute_result"
    }
   ],
   "source": [
    "math.pi"
   ]
  },
  {
   "cell_type": "code",
   "execution_count": 3,
   "id": "a37b1ad5",
   "metadata": {},
   "outputs": [],
   "source": [
    "from math import pi"
   ]
  },
  {
   "cell_type": "code",
   "execution_count": 2,
   "id": "5de90f4c",
   "metadata": {},
   "outputs": [
    {
     "ename": "NameError",
     "evalue": "name 'pi' is not defined",
     "output_type": "error",
     "traceback": [
      "\u001b[1;31m---------------------------------------------------------------------------\u001b[0m",
      "\u001b[1;31mNameError\u001b[0m                                 Traceback (most recent call last)",
      "\u001b[1;32m<ipython-input-2-f84ab820532c>\u001b[0m in \u001b[0;36m<module>\u001b[1;34m\u001b[0m\n\u001b[1;32m----> 1\u001b[1;33m \u001b[0mpi\u001b[0m\u001b[1;33m\u001b[0m\u001b[1;33m\u001b[0m\u001b[0m\n\u001b[0m",
      "\u001b[1;31mNameError\u001b[0m: name 'pi' is not defined"
     ]
    }
   ],
   "source": [
    "pi"
   ]
  },
  {
   "cell_type": "code",
   "execution_count": 1,
   "id": "c2cc08f6",
   "metadata": {},
   "outputs": [],
   "source": [
    "import math"
   ]
  },
  {
   "cell_type": "code",
   "execution_count": 2,
   "id": "36d2a308",
   "metadata": {},
   "outputs": [
    {
     "ename": "NameError",
     "evalue": "name 'pi' is not defined",
     "output_type": "error",
     "traceback": [
      "\u001b[1;31m---------------------------------------------------------------------------\u001b[0m",
      "\u001b[1;31mNameError\u001b[0m                                 Traceback (most recent call last)",
      "\u001b[1;32m<ipython-input-2-f84ab820532c>\u001b[0m in \u001b[0;36m<module>\u001b[1;34m\u001b[0m\n\u001b[1;32m----> 1\u001b[1;33m \u001b[0mpi\u001b[0m\u001b[1;33m\u001b[0m\u001b[1;33m\u001b[0m\u001b[0m\n\u001b[0m",
      "\u001b[1;31mNameError\u001b[0m: name 'pi' is not defined"
     ]
    }
   ],
   "source": [
    "pi"
   ]
  },
  {
   "cell_type": "code",
   "execution_count": 3,
   "id": "6310a112",
   "metadata": {},
   "outputs": [
    {
     "data": {
      "text/plain": [
       "3.141592653589793"
      ]
     },
     "execution_count": 3,
     "metadata": {},
     "output_type": "execute_result"
    }
   ],
   "source": [
    "math.pi"
   ]
  },
  {
   "cell_type": "code",
   "execution_count": 4,
   "id": "72b3e2ac",
   "metadata": {},
   "outputs": [],
   "source": [
    "pi = math.pi"
   ]
  },
  {
   "cell_type": "code",
   "execution_count": 5,
   "id": "17eee62a",
   "metadata": {},
   "outputs": [
    {
     "data": {
      "text/plain": [
       "3.141592653589793"
      ]
     },
     "execution_count": 5,
     "metadata": {},
     "output_type": "execute_result"
    }
   ],
   "source": [
    "pi"
   ]
  },
  {
   "cell_type": "code",
   "execution_count": 6,
   "id": "e9361eb6",
   "metadata": {},
   "outputs": [],
   "source": [
    "from scipy.optimize import fsolve"
   ]
  },
  {
   "cell_type": "code",
   "execution_count": 7,
   "id": "c859f572",
   "metadata": {},
   "outputs": [],
   "source": [
    "def fun(x):\n",
    "    return x+2"
   ]
  },
  {
   "cell_type": "code",
   "execution_count": 9,
   "id": "eac879a7",
   "metadata": {},
   "outputs": [
    {
     "data": {
      "text/plain": [
       "array([-2.])"
      ]
     },
     "execution_count": 9,
     "metadata": {},
     "output_type": "execute_result"
    }
   ],
   "source": [
    "fsolve(fun, 5)"
   ]
  },
  {
   "cell_type": "code",
   "execution_count": 10,
   "id": "9a4082e2",
   "metadata": {},
   "outputs": [],
   "source": [
    "def fun2(x):\n",
    "    return x**2-4"
   ]
  },
  {
   "cell_type": "code",
   "execution_count": 12,
   "id": "671c5fd5",
   "metadata": {},
   "outputs": [
    {
     "data": {
      "text/plain": [
       "array([-2.])"
      ]
     },
     "execution_count": 12,
     "metadata": {},
     "output_type": "execute_result"
    }
   ],
   "source": [
    "fsolve(fun2, -5)"
   ]
  },
  {
   "cell_type": "code",
   "execution_count": 13,
   "id": "2f1a67b8",
   "metadata": {},
   "outputs": [
    {
     "data": {
      "text/plain": [
       "(array([-2.]),\n",
       " {'nfev': 10,\n",
       "  'fjac': array([[-1.]]),\n",
       "  'r': array([4.00000007]),\n",
       "  'qtf': array([-4.93116659e-12]),\n",
       "  'fvec': array([0.])},\n",
       " 1,\n",
       " 'The solution converged.')"
      ]
     },
     "execution_count": 13,
     "metadata": {},
     "output_type": "execute_result"
    }
   ],
   "source": [
    "fsolve(fun2, -5, full_output=True)"
   ]
  },
  {
   "cell_type": "code",
   "execution_count": 15,
   "id": "dc856d7a",
   "metadata": {},
   "outputs": [
    {
     "data": {
      "text/plain": [
       "(array([2.]),\n",
       " {'nfev': 9,\n",
       "  'fjac': array([[-1.]]),\n",
       "  'r': array([-3.99999749]),\n",
       "  'qtf': array([1.52958535e-09]),\n",
       "  'fvec': array([1.77635684e-15])},\n",
       " 1,\n",
       " 'The solution converged.')"
      ]
     },
     "execution_count": 15,
     "metadata": {},
     "output_type": "execute_result"
    }
   ],
   "source": [
    "fsolve(fun2, 1, full_output=True)"
   ]
  },
  {
   "cell_type": "code",
   "execution_count": 16,
   "id": "b3ad5688",
   "metadata": {},
   "outputs": [],
   "source": [
    "def fun3(x):\n",
    "    return x**2+1"
   ]
  },
  {
   "cell_type": "code",
   "execution_count": 18,
   "id": "78d535f2",
   "metadata": {},
   "outputs": [
    {
     "data": {
      "text/plain": [
       "(array([-2.18114415e-12]),\n",
       " {'nfev': 14,\n",
       "  'fjac': array([[1.]]),\n",
       "  'r': array([-0.0078125]),\n",
       "  'qtf': array([1.]),\n",
       "  'fvec': array([1.])},\n",
       " 5,\n",
       " 'The iteration is not making good progress, as measured by the \\n  improvement from the last ten iterations.')"
      ]
     },
     "execution_count": 18,
     "metadata": {},
     "output_type": "execute_result"
    }
   ],
   "source": [
    "fsolve(fun3,1, full_output=True)"
   ]
  },
  {
   "cell_type": "code",
   "execution_count": 19,
   "id": "30867758",
   "metadata": {},
   "outputs": [],
   "source": [
    "def fun4(x):\n",
    "    return x**3-3*x**2-9*x+40"
   ]
  },
  {
   "cell_type": "code",
   "execution_count": 22,
   "id": "aac0ba20",
   "metadata": {},
   "outputs": [
    {
     "data": {
      "text/plain": [
       "(array([-3.32495856]),\n",
       " {'nfev': 12,\n",
       "  'fjac': array([[-1.]]),\n",
       "  'r': array([-44.11580285]),\n",
       "  'qtf': array([4.06586764e-10]),\n",
       "  'fvec': array([-1.42108547e-14])},\n",
       " 1,\n",
       " 'The solution converged.')"
      ]
     },
     "execution_count": 22,
     "metadata": {},
     "output_type": "execute_result"
    }
   ],
   "source": [
    "fsolve(fun4, -10, full_output=True)"
   ]
  },
  {
   "cell_type": "code",
   "execution_count": 23,
   "id": "763076f3",
   "metadata": {},
   "outputs": [],
   "source": [
    "# x+y=5 x**2+y**2=17\n",
    "def fun5(inputlista):\n",
    "    x = inputlista[0]\n",
    "    y = inputlista[1]\n",
    "    e1 = x+y-5\n",
    "    e2 = x**2+y**2-17\n",
    "    return [e1, e2]"
   ]
  },
  {
   "cell_type": "code",
   "execution_count": 24,
   "id": "1a099b9f",
   "metadata": {},
   "outputs": [
    {
     "data": {
      "text/plain": [
       "array([1., 4.])"
      ]
     },
     "execution_count": 24,
     "metadata": {},
     "output_type": "execute_result"
    }
   ],
   "source": [
    "fsolve(fun5, [0, 5])"
   ]
  },
  {
   "cell_type": "code",
   "execution_count": 25,
   "id": "7b23cbb2",
   "metadata": {},
   "outputs": [
    {
     "data": {
      "text/plain": [
       "array([4., 1.])"
      ]
     },
     "execution_count": 25,
     "metadata": {},
     "output_type": "execute_result"
    }
   ],
   "source": [
    "fsolve(fun5, [5, 0])"
   ]
  },
  {
   "cell_type": "code",
   "execution_count": 26,
   "id": "277d07ad",
   "metadata": {},
   "outputs": [],
   "source": [
    "def ketidoszak(r):\n",
    "    return 100+120/(1+r)-109.87-109.87/(1+r)"
   ]
  },
  {
   "cell_type": "code",
   "execution_count": 27,
   "id": "044a187f",
   "metadata": {},
   "outputs": [
    {
     "data": {
      "text/plain": [
       "array([0.02634245])"
      ]
     },
     "execution_count": 27,
     "metadata": {},
     "output_type": "execute_result"
    }
   ],
   "source": [
    "fsolve(ketidoszak, 0.05)"
   ]
  },
  {
   "cell_type": "code",
   "execution_count": 28,
   "id": "c7ac759f",
   "metadata": {},
   "outputs": [],
   "source": [
    "def termeles(a):\n",
    "    return 180-1.7*100**a*200**(1-a)"
   ]
  },
  {
   "cell_type": "code",
   "execution_count": 31,
   "id": "b416d9e1",
   "metadata": {},
   "outputs": [
    {
     "data": {
      "text/plain": [
       "165.15681116544488"
      ]
     },
     "execution_count": 31,
     "metadata": {},
     "output_type": "execute_result"
    }
   ],
   "source": [
    "fsolve(termeles, 0.5)[0]*180"
   ]
  },
  {
   "cell_type": "code",
   "execution_count": 32,
   "id": "ed85581a",
   "metadata": {},
   "outputs": [],
   "source": [
    "def rbc(x):\n",
    "    a = x[0]\n",
    "    K = x[1]\n",
    "    e1 = 130-1.2*K**a*70**(1-a)\n",
    "    e2 = 0.2-a*130/K\n",
    "    return [e1, e2]"
   ]
  },
  {
   "cell_type": "code",
   "execution_count": 33,
   "id": "74e91bc8",
   "metadata": {},
   "outputs": [
    {
     "data": {
      "text/plain": [
       "array([  0.36102359, 234.66533306])"
      ]
     },
     "execution_count": 33,
     "metadata": {},
     "output_type": "execute_result"
    }
   ],
   "source": [
    "fsolve(rbc, [0.5, 150])"
   ]
  },
  {
   "cell_type": "code",
   "execution_count": 34,
   "id": "df2fbcd4",
   "metadata": {},
   "outputs": [],
   "source": [
    "def rbc2(x):\n",
    "    K=x[0]\n",
    "    L=x[1]\n",
    "    Y=1.4*K**0.38*L**0.62\n",
    "    w = 0.62*Y/L\n",
    "    C=w/L**0.4\n",
    "    r = 1/0.97-1\n",
    "    rk = 0.38*Y/K\n",
    "    e1 = Y-C-0.03*K\n",
    "    e2 = rk-0.03-r\n",
    "    return [e1, e2]"
   ]
  },
  {
   "cell_type": "code",
   "execution_count": 41,
   "id": "21e28c04",
   "metadata": {},
   "outputs": [],
   "source": [
    "[K, L]=fsolve(rbc2, [1, 1])"
   ]
  },
  {
   "cell_type": "code",
   "execution_count": 42,
   "id": "71d68e3d",
   "metadata": {},
   "outputs": [],
   "source": [
    "Y=1.4*K**0.38*L**0.62"
   ]
  },
  {
   "cell_type": "code",
   "execution_count": 43,
   "id": "8627184a",
   "metadata": {},
   "outputs": [
    {
     "data": {
      "text/plain": [
       "4.354104069971565"
      ]
     },
     "execution_count": 43,
     "metadata": {},
     "output_type": "execute_result"
    }
   ],
   "source": [
    "Y"
   ]
  },
  {
   "cell_type": "code",
   "execution_count": null,
   "id": "c47122ce",
   "metadata": {},
   "outputs": [],
   "source": []
  }
 ],
 "metadata": {
  "kernelspec": {
   "display_name": "Python 3",
   "language": "python",
   "name": "python3"
  },
  "language_info": {
   "codemirror_mode": {
    "name": "ipython",
    "version": 3
   },
   "file_extension": ".py",
   "mimetype": "text/x-python",
   "name": "python",
   "nbconvert_exporter": "python",
   "pygments_lexer": "ipython3",
   "version": "3.8.8"
  }
 },
 "nbformat": 4,
 "nbformat_minor": 5
}
