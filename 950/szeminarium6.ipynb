{
 "cells": [
  {
   "cell_type": "code",
   "execution_count": 1,
   "id": "9792e33b",
   "metadata": {},
   "outputs": [],
   "source": [
    "a =[5, 3, 4, 4, 4, 4, 4, 6, 7, 8, 3.14, \"alma\"]"
   ]
  },
  {
   "cell_type": "code",
   "execution_count": 2,
   "id": "c9b6e0b5",
   "metadata": {},
   "outputs": [
    {
     "data": {
      "text/plain": [
       "5"
      ]
     },
     "execution_count": 2,
     "metadata": {},
     "output_type": "execute_result"
    }
   ],
   "source": [
    "a.count(4)"
   ]
  },
  {
   "cell_type": "code",
   "execution_count": 3,
   "id": "6be6386b",
   "metadata": {},
   "outputs": [
    {
     "data": {
      "text/plain": [
       "1"
      ]
     },
     "execution_count": 3,
     "metadata": {},
     "output_type": "execute_result"
    }
   ],
   "source": [
    "a.count('alma')"
   ]
  },
  {
   "cell_type": "code",
   "execution_count": 4,
   "id": "4e38678a",
   "metadata": {},
   "outputs": [],
   "source": [
    "a.remove('alma')"
   ]
  },
  {
   "cell_type": "code",
   "execution_count": 5,
   "id": "4bc33999",
   "metadata": {},
   "outputs": [
    {
     "data": {
      "text/plain": [
       "[5, 3, 4, 4, 4, 4, 4, 6, 7, 8, 3.14]"
      ]
     },
     "execution_count": 5,
     "metadata": {},
     "output_type": "execute_result"
    }
   ],
   "source": [
    "a"
   ]
  },
  {
   "cell_type": "code",
   "execution_count": 6,
   "id": "1d6d44bd",
   "metadata": {},
   "outputs": [],
   "source": [
    "a.remove(4)"
   ]
  },
  {
   "cell_type": "code",
   "execution_count": 7,
   "id": "e4b285b4",
   "metadata": {},
   "outputs": [
    {
     "data": {
      "text/plain": [
       "[5, 3, 4, 4, 4, 4, 6, 7, 8, 3.14]"
      ]
     },
     "execution_count": 7,
     "metadata": {},
     "output_type": "execute_result"
    }
   ],
   "source": [
    "a"
   ]
  },
  {
   "cell_type": "code",
   "execution_count": 8,
   "id": "9c93b7c1",
   "metadata": {},
   "outputs": [
    {
     "data": {
      "text/plain": [
       "3.14"
      ]
     },
     "execution_count": 8,
     "metadata": {},
     "output_type": "execute_result"
    }
   ],
   "source": [
    "a.pop()"
   ]
  },
  {
   "cell_type": "code",
   "execution_count": 9,
   "id": "9d0690e2",
   "metadata": {},
   "outputs": [
    {
     "data": {
      "text/plain": [
       "[5, 3, 4, 4, 4, 4, 6, 7, 8]"
      ]
     },
     "execution_count": 9,
     "metadata": {},
     "output_type": "execute_result"
    }
   ],
   "source": [
    "a"
   ]
  },
  {
   "cell_type": "code",
   "execution_count": 10,
   "id": "5ef57f7d",
   "metadata": {},
   "outputs": [],
   "source": [
    "b=a.pop()"
   ]
  },
  {
   "cell_type": "code",
   "execution_count": 11,
   "id": "9918ea7b",
   "metadata": {},
   "outputs": [
    {
     "data": {
      "text/plain": [
       "8"
      ]
     },
     "execution_count": 11,
     "metadata": {},
     "output_type": "execute_result"
    }
   ],
   "source": [
    "b"
   ]
  },
  {
   "cell_type": "code",
   "execution_count": 12,
   "id": "12f4eb4d",
   "metadata": {},
   "outputs": [
    {
     "data": {
      "text/plain": [
       "[5, 3, 4, 4, 4, 4, 6, 7]"
      ]
     },
     "execution_count": 12,
     "metadata": {},
     "output_type": "execute_result"
    }
   ],
   "source": [
    "a"
   ]
  },
  {
   "cell_type": "code",
   "execution_count": 13,
   "id": "0646a896",
   "metadata": {},
   "outputs": [
    {
     "data": {
      "text/plain": [
       "[5, 3, 4, 4, 4, 4, 6, 7]"
      ]
     },
     "execution_count": 13,
     "metadata": {},
     "output_type": "execute_result"
    }
   ],
   "source": [
    "a"
   ]
  },
  {
   "cell_type": "code",
   "execution_count": 14,
   "id": "211b6f76",
   "metadata": {},
   "outputs": [],
   "source": [
    "a.sort()"
   ]
  },
  {
   "cell_type": "code",
   "execution_count": 15,
   "id": "13fd61d0",
   "metadata": {},
   "outputs": [
    {
     "data": {
      "text/plain": [
       "[3, 4, 4, 4, 4, 5, 6, 7]"
      ]
     },
     "execution_count": 15,
     "metadata": {},
     "output_type": "execute_result"
    }
   ],
   "source": [
    "a"
   ]
  },
  {
   "cell_type": "code",
   "execution_count": 16,
   "id": "df595bc8",
   "metadata": {},
   "outputs": [],
   "source": [
    "a.reverse()"
   ]
  },
  {
   "cell_type": "code",
   "execution_count": 17,
   "id": "e9a6dd23",
   "metadata": {},
   "outputs": [
    {
     "data": {
      "text/plain": [
       "[7, 6, 5, 4, 4, 4, 4, 3]"
      ]
     },
     "execution_count": 17,
     "metadata": {},
     "output_type": "execute_result"
    }
   ],
   "source": [
    "a"
   ]
  },
  {
   "cell_type": "code",
   "execution_count": 18,
   "id": "5caedb78",
   "metadata": {},
   "outputs": [
    {
     "data": {
      "text/plain": [
       "7"
      ]
     },
     "execution_count": 18,
     "metadata": {},
     "output_type": "execute_result"
    }
   ],
   "source": [
    "a[0]"
   ]
  },
  {
   "cell_type": "code",
   "execution_count": 19,
   "id": "6d69d492",
   "metadata": {},
   "outputs": [],
   "source": [
    "a[0]='alma'"
   ]
  },
  {
   "cell_type": "code",
   "execution_count": 20,
   "id": "a1fdaf52",
   "metadata": {},
   "outputs": [
    {
     "data": {
      "text/plain": [
       "['alma', 6, 5, 4, 4, 4, 4, 3]"
      ]
     },
     "execution_count": 20,
     "metadata": {},
     "output_type": "execute_result"
    }
   ],
   "source": [
    "a"
   ]
  },
  {
   "cell_type": "code",
   "execution_count": 21,
   "id": "299e06ea",
   "metadata": {},
   "outputs": [],
   "source": [
    "a[0:2]=[2,3]"
   ]
  },
  {
   "cell_type": "code",
   "execution_count": 22,
   "id": "460acac5",
   "metadata": {},
   "outputs": [
    {
     "data": {
      "text/plain": [
       "[2, 3, 5, 4, 4, 4, 4, 3]"
      ]
     },
     "execution_count": 22,
     "metadata": {},
     "output_type": "execute_result"
    }
   ],
   "source": [
    "a"
   ]
  },
  {
   "cell_type": "code",
   "execution_count": 23,
   "id": "ba5574d7",
   "metadata": {},
   "outputs": [],
   "source": [
    "a[0:2]=[2,3,4,5]"
   ]
  },
  {
   "cell_type": "code",
   "execution_count": 24,
   "id": "4547641e",
   "metadata": {},
   "outputs": [
    {
     "data": {
      "text/plain": [
       "[2, 3, 4, 5, 5, 4, 4, 4, 4, 3]"
      ]
     },
     "execution_count": 24,
     "metadata": {},
     "output_type": "execute_result"
    }
   ],
   "source": [
    "a"
   ]
  },
  {
   "cell_type": "code",
   "execution_count": 25,
   "id": "44db9d5c",
   "metadata": {},
   "outputs": [],
   "source": [
    "a[1:5]=['alma','korte','szilva','narancs',52]"
   ]
  },
  {
   "cell_type": "code",
   "execution_count": 26,
   "id": "9bfdfa88",
   "metadata": {},
   "outputs": [
    {
     "data": {
      "text/plain": [
       "[2, 'alma', 'korte', 'szilva', 'narancs', 52, 4, 4, 4, 4, 3]"
      ]
     },
     "execution_count": 26,
     "metadata": {},
     "output_type": "execute_result"
    }
   ],
   "source": [
    "a"
   ]
  },
  {
   "cell_type": "code",
   "execution_count": 27,
   "id": "669ae393",
   "metadata": {},
   "outputs": [
    {
     "data": {
      "text/plain": [
       "11"
      ]
     },
     "execution_count": 27,
     "metadata": {},
     "output_type": "execute_result"
    }
   ],
   "source": [
    "len(a)"
   ]
  },
  {
   "cell_type": "code",
   "execution_count": 28,
   "id": "005875f7",
   "metadata": {},
   "outputs": [],
   "source": [
    "b=[3, 4, 12, 42.42]"
   ]
  },
  {
   "cell_type": "code",
   "execution_count": 29,
   "id": "2ed5ac46",
   "metadata": {},
   "outputs": [
    {
     "data": {
      "text/plain": [
       "61.42"
      ]
     },
     "execution_count": 29,
     "metadata": {},
     "output_type": "execute_result"
    }
   ],
   "source": [
    "sum(b)"
   ]
  },
  {
   "cell_type": "code",
   "execution_count": 30,
   "id": "d694a5a3",
   "metadata": {},
   "outputs": [],
   "source": [
    "c = ['Ez', 'egy', 'lista', 'stringekkel']"
   ]
  },
  {
   "cell_type": "code",
   "execution_count": 31,
   "id": "956105ee",
   "metadata": {},
   "outputs": [
    {
     "data": {
      "text/plain": [
       "'Ez egy lista stringekkel'"
      ]
     },
     "execution_count": 31,
     "metadata": {},
     "output_type": "execute_result"
    }
   ],
   "source": [
    "' '.join(c)"
   ]
  },
  {
   "cell_type": "code",
   "execution_count": 32,
   "id": "da65f819",
   "metadata": {},
   "outputs": [
    {
     "data": {
      "text/plain": [
       "'Ezalmaegyalmalistaalmastringekkel'"
      ]
     },
     "execution_count": 32,
     "metadata": {},
     "output_type": "execute_result"
    }
   ],
   "source": [
    "'alma'.join(c)"
   ]
  },
  {
   "cell_type": "code",
   "execution_count": 34,
   "id": "f9daa46a",
   "metadata": {},
   "outputs": [
    {
     "name": "stdout",
     "output_type": "stream",
     "text": [
      "Ez\n",
      "egy\n",
      "lista\n",
      "stringekkel\n"
     ]
    }
   ],
   "source": [
    "print('\\n'.join(c))"
   ]
  },
  {
   "cell_type": "code",
   "execution_count": 35,
   "id": "874794f9",
   "metadata": {},
   "outputs": [],
   "source": [
    "d = 'Ez egy string, amit tokenekre fogok bontani.'"
   ]
  },
  {
   "cell_type": "code",
   "execution_count": 37,
   "id": "592d081d",
   "metadata": {},
   "outputs": [
    {
     "data": {
      "text/plain": [
       "['Ez egy s', 'ring, ami', ' ', 'okenekre fogok bon', 'ani.']"
      ]
     },
     "execution_count": 37,
     "metadata": {},
     "output_type": "execute_result"
    }
   ],
   "source": [
    "d.split('t')"
   ]
  },
  {
   "cell_type": "code",
   "execution_count": 38,
   "id": "300c38d0",
   "metadata": {},
   "outputs": [],
   "source": [
    "csv = \"\"\"1,2,3\n",
    "2,3,4\n",
    "3.14,alma,12\"\"\""
   ]
  },
  {
   "cell_type": "code",
   "execution_count": 39,
   "id": "f008f6f7",
   "metadata": {},
   "outputs": [
    {
     "name": "stdout",
     "output_type": "stream",
     "text": [
      "1,2,3\n",
      "2,3,4\n",
      "3.14,alma,12\n"
     ]
    }
   ],
   "source": [
    "print(csv)"
   ]
  },
  {
   "cell_type": "code",
   "execution_count": 40,
   "id": "22d1bc20",
   "metadata": {},
   "outputs": [],
   "source": [
    "with open('csvfajlom.csv','w') as f:\n",
    "    f.write(csv)"
   ]
  },
  {
   "cell_type": "code",
   "execution_count": 41,
   "id": "e6cb920e",
   "metadata": {},
   "outputs": [],
   "source": [
    "with open('csvfajlom.csv', 'r') as kiscica:\n",
    "    beolvasott = kiscica.read()"
   ]
  },
  {
   "cell_type": "code",
   "execution_count": 42,
   "id": "d5615779",
   "metadata": {},
   "outputs": [
    {
     "data": {
      "text/plain": [
       "'1,2,3\\n2,3,4\\n3.14,alma,12'"
      ]
     },
     "execution_count": 42,
     "metadata": {},
     "output_type": "execute_result"
    }
   ],
   "source": [
    "beolvasott"
   ]
  },
  {
   "cell_type": "code",
   "execution_count": 46,
   "id": "4e03af1e",
   "metadata": {},
   "outputs": [],
   "source": [
    "data = []\n",
    "with open('csvfajlom.csv', 'r') as g:\n",
    "    for line in g:\n",
    "        data.append(line.replace('\\n','').split(','))"
   ]
  },
  {
   "cell_type": "code",
   "execution_count": 47,
   "id": "48f7315b",
   "metadata": {},
   "outputs": [
    {
     "data": {
      "text/plain": [
       "[['1', '2', '3'], ['2', '3', '4'], ['3.14', 'alma', '12']]"
      ]
     },
     "execution_count": 47,
     "metadata": {},
     "output_type": "execute_result"
    }
   ],
   "source": [
    "data"
   ]
  },
  {
   "cell_type": "code",
   "execution_count": 48,
   "id": "b1950bf5",
   "metadata": {},
   "outputs": [],
   "source": [
    "# TUPLE\n",
    "a = (2,3,4,5,6,7)"
   ]
  },
  {
   "cell_type": "code",
   "execution_count": 49,
   "id": "0d008dcc",
   "metadata": {},
   "outputs": [
    {
     "data": {
      "text/plain": [
       "(2, 3, 4, 5, 6, 7)"
      ]
     },
     "execution_count": 49,
     "metadata": {},
     "output_type": "execute_result"
    }
   ],
   "source": [
    "a"
   ]
  },
  {
   "cell_type": "code",
   "execution_count": 50,
   "id": "a88fcb50",
   "metadata": {},
   "outputs": [
    {
     "data": {
      "text/plain": [
       "2"
      ]
     },
     "execution_count": 50,
     "metadata": {},
     "output_type": "execute_result"
    }
   ],
   "source": [
    "a[0]"
   ]
  },
  {
   "cell_type": "code",
   "execution_count": 51,
   "id": "c8d4f8c1",
   "metadata": {},
   "outputs": [
    {
     "data": {
      "text/plain": [
       "(2, 3, 4, 5)"
      ]
     },
     "execution_count": 51,
     "metadata": {},
     "output_type": "execute_result"
    }
   ],
   "source": [
    "a[0:4]"
   ]
  },
  {
   "cell_type": "code",
   "execution_count": 52,
   "id": "7900139c",
   "metadata": {},
   "outputs": [
    {
     "ename": "TypeError",
     "evalue": "'tuple' object does not support item assignment",
     "output_type": "error",
     "traceback": [
      "\u001b[1;31m---------------------------------------------------------------------------\u001b[0m",
      "\u001b[1;31mTypeError\u001b[0m                                 Traceback (most recent call last)",
      "\u001b[1;32m<ipython-input-52-da55acbc4652>\u001b[0m in \u001b[0;36m<module>\u001b[1;34m\u001b[0m\n\u001b[1;32m----> 1\u001b[1;33m \u001b[0ma\u001b[0m\u001b[1;33m[\u001b[0m\u001b[1;36m2\u001b[0m\u001b[1;33m]\u001b[0m \u001b[1;33m=\u001b[0m \u001b[1;34m'alma'\u001b[0m\u001b[1;33m\u001b[0m\u001b[1;33m\u001b[0m\u001b[0m\n\u001b[0m",
      "\u001b[1;31mTypeError\u001b[0m: 'tuple' object does not support item assignment"
     ]
    }
   ],
   "source": [
    "a[2] = 'alma'"
   ]
  },
  {
   "cell_type": "code",
   "execution_count": 53,
   "id": "276b4d03",
   "metadata": {},
   "outputs": [
    {
     "data": {
      "text/plain": [
       "(2, 3, 4, 5, 6, 7)"
      ]
     },
     "execution_count": 53,
     "metadata": {},
     "output_type": "execute_result"
    }
   ],
   "source": [
    "a"
   ]
  },
  {
   "cell_type": "code",
   "execution_count": 54,
   "id": "05c00dc6",
   "metadata": {},
   "outputs": [],
   "source": [
    "a = 'alma'"
   ]
  },
  {
   "cell_type": "code",
   "execution_count": 55,
   "id": "05bd3eb4",
   "metadata": {},
   "outputs": [
    {
     "data": {
      "text/plain": [
       "'alma'"
      ]
     },
     "execution_count": 55,
     "metadata": {},
     "output_type": "execute_result"
    }
   ],
   "source": [
    "a"
   ]
  },
  {
   "cell_type": "code",
   "execution_count": 56,
   "id": "75512b63",
   "metadata": {},
   "outputs": [],
   "source": [
    "a = (1, 'alma', False, [1, 2, 3])"
   ]
  },
  {
   "cell_type": "code",
   "execution_count": 57,
   "id": "60bad43f",
   "metadata": {},
   "outputs": [
    {
     "data": {
      "text/plain": [
       "(1, 'alma', False, [1, 2, 3])"
      ]
     },
     "execution_count": 57,
     "metadata": {},
     "output_type": "execute_result"
    }
   ],
   "source": [
    "a"
   ]
  },
  {
   "cell_type": "code",
   "execution_count": 58,
   "id": "65479d73",
   "metadata": {},
   "outputs": [
    {
     "data": {
      "text/plain": [
       "2"
      ]
     },
     "execution_count": 58,
     "metadata": {},
     "output_type": "execute_result"
    }
   ],
   "source": [
    "a[-1][1]"
   ]
  },
  {
   "cell_type": "code",
   "execution_count": 59,
   "id": "8c079291",
   "metadata": {},
   "outputs": [],
   "source": [
    "a[-1][1] = 5"
   ]
  },
  {
   "cell_type": "code",
   "execution_count": 60,
   "id": "45f90233",
   "metadata": {},
   "outputs": [
    {
     "data": {
      "text/plain": [
       "(1, 'alma', False, [1, 5, 3])"
      ]
     },
     "execution_count": 60,
     "metadata": {},
     "output_type": "execute_result"
    }
   ],
   "source": [
    "a"
   ]
  },
  {
   "cell_type": "code",
   "execution_count": 61,
   "id": "51b6f763",
   "metadata": {},
   "outputs": [],
   "source": [
    "# SET"
   ]
  },
  {
   "cell_type": "code",
   "execution_count": 62,
   "id": "dc2a027f",
   "metadata": {},
   "outputs": [],
   "source": [
    "e = {2, 3, 4, 'alma', 'körte'}"
   ]
  },
  {
   "cell_type": "code",
   "execution_count": 63,
   "id": "06ad07d6",
   "metadata": {},
   "outputs": [
    {
     "data": {
      "text/plain": [
       "{2, 3, 4, 'alma', 'körte'}"
      ]
     },
     "execution_count": 63,
     "metadata": {},
     "output_type": "execute_result"
    }
   ],
   "source": [
    "e"
   ]
  },
  {
   "cell_type": "code",
   "execution_count": 64,
   "id": "f648c3ae",
   "metadata": {},
   "outputs": [],
   "source": [
    "f = {2, 6, 3.4, 'alma', 'narancs'}"
   ]
  },
  {
   "cell_type": "code",
   "execution_count": 65,
   "id": "9d7c6d39",
   "metadata": {},
   "outputs": [
    {
     "data": {
      "text/plain": [
       "True"
      ]
     },
     "execution_count": 65,
     "metadata": {},
     "output_type": "execute_result"
    }
   ],
   "source": [
    "'körte' in e"
   ]
  },
  {
   "cell_type": "code",
   "execution_count": 66,
   "id": "e6a6bd5e",
   "metadata": {},
   "outputs": [
    {
     "data": {
      "text/plain": [
       "False"
      ]
     },
     "execution_count": 66,
     "metadata": {},
     "output_type": "execute_result"
    }
   ],
   "source": [
    "6 in e"
   ]
  },
  {
   "cell_type": "code",
   "execution_count": 67,
   "id": "8ca3a546",
   "metadata": {},
   "outputs": [],
   "source": [
    "e.add('szilva')"
   ]
  },
  {
   "cell_type": "code",
   "execution_count": 68,
   "id": "0b447df5",
   "metadata": {},
   "outputs": [
    {
     "data": {
      "text/plain": [
       "{2, 3, 4, 'alma', 'körte', 'szilva'}"
      ]
     },
     "execution_count": 68,
     "metadata": {},
     "output_type": "execute_result"
    }
   ],
   "source": [
    "e"
   ]
  },
  {
   "cell_type": "code",
   "execution_count": 69,
   "id": "31041388",
   "metadata": {},
   "outputs": [
    {
     "data": {
      "text/plain": [
       "{2, 'alma'}"
      ]
     },
     "execution_count": 69,
     "metadata": {},
     "output_type": "execute_result"
    }
   ],
   "source": [
    "e & f"
   ]
  },
  {
   "cell_type": "code",
   "execution_count": 70,
   "id": "fc5813d1",
   "metadata": {},
   "outputs": [
    {
     "data": {
      "text/plain": [
       "{2, 3, 3.4, 4, 6, 'alma', 'körte', 'narancs', 'szilva'}"
      ]
     },
     "execution_count": 70,
     "metadata": {},
     "output_type": "execute_result"
    }
   ],
   "source": [
    "e | f"
   ]
  },
  {
   "cell_type": "code",
   "execution_count": 71,
   "id": "f4caac53",
   "metadata": {},
   "outputs": [
    {
     "data": {
      "text/plain": [
       "{3, 4, 'körte', 'szilva'}"
      ]
     },
     "execution_count": 71,
     "metadata": {},
     "output_type": "execute_result"
    }
   ],
   "source": [
    "e-f"
   ]
  },
  {
   "cell_type": "code",
   "execution_count": 72,
   "id": "9d3eec65",
   "metadata": {},
   "outputs": [
    {
     "data": {
      "text/plain": [
       "{2, 3, 4, 'alma', 'körte', 'szilva'}"
      ]
     },
     "execution_count": 72,
     "metadata": {},
     "output_type": "execute_result"
    }
   ],
   "source": [
    "e"
   ]
  },
  {
   "cell_type": "code",
   "execution_count": 73,
   "id": "c1e84847",
   "metadata": {},
   "outputs": [
    {
     "ename": "TypeError",
     "evalue": "'set' object is not subscriptable",
     "output_type": "error",
     "traceback": [
      "\u001b[1;31m---------------------------------------------------------------------------\u001b[0m",
      "\u001b[1;31mTypeError\u001b[0m                                 Traceback (most recent call last)",
      "\u001b[1;32m<ipython-input-73-4505f42e6b2f>\u001b[0m in \u001b[0;36m<module>\u001b[1;34m\u001b[0m\n\u001b[1;32m----> 1\u001b[1;33m \u001b[0me\u001b[0m\u001b[1;33m[\u001b[0m\u001b[1;36m2\u001b[0m\u001b[1;33m]\u001b[0m\u001b[1;33m\u001b[0m\u001b[1;33m\u001b[0m\u001b[0m\n\u001b[0m",
      "\u001b[1;31mTypeError\u001b[0m: 'set' object is not subscriptable"
     ]
    }
   ],
   "source": [
    "e[2]"
   ]
  },
  {
   "cell_type": "code",
   "execution_count": 74,
   "id": "8527ed70",
   "metadata": {},
   "outputs": [],
   "source": [
    "a = [2, 2, 2, 2, 3, 4, 5, 'alma', True, True, 3.14, 3.14]"
   ]
  },
  {
   "cell_type": "code",
   "execution_count": 75,
   "id": "1cda1c6d",
   "metadata": {},
   "outputs": [
    {
     "data": {
      "text/plain": [
       "[2, 2, 2, 2, 3, 4, 5, 'alma', True, True, 3.14, 3.14]"
      ]
     },
     "execution_count": 75,
     "metadata": {},
     "output_type": "execute_result"
    }
   ],
   "source": [
    "a"
   ]
  },
  {
   "cell_type": "code",
   "execution_count": 76,
   "id": "5a60a65f",
   "metadata": {},
   "outputs": [
    {
     "data": {
      "text/plain": [
       "{2, 3, 3.14, 4, 5, True, 'alma'}"
      ]
     },
     "execution_count": 76,
     "metadata": {},
     "output_type": "execute_result"
    }
   ],
   "source": [
    "set(a)"
   ]
  },
  {
   "cell_type": "code",
   "execution_count": 77,
   "id": "e7755f18",
   "metadata": {},
   "outputs": [
    {
     "data": {
      "text/plain": [
       "[True, 2, 3, 4, 5, 3.14, 'alma']"
      ]
     },
     "execution_count": 77,
     "metadata": {},
     "output_type": "execute_result"
    }
   ],
   "source": [
    "list(set(a))"
   ]
  },
  {
   "cell_type": "code",
   "execution_count": 78,
   "id": "a9942214",
   "metadata": {},
   "outputs": [],
   "source": [
    "b={1, 2, 3}"
   ]
  },
  {
   "cell_type": "code",
   "execution_count": 79,
   "id": "e8631fdb",
   "metadata": {},
   "outputs": [
    {
     "data": {
      "text/plain": [
       "{1, 2, 3}"
      ]
     },
     "execution_count": 79,
     "metadata": {},
     "output_type": "execute_result"
    }
   ],
   "source": [
    "b"
   ]
  },
  {
   "cell_type": "code",
   "execution_count": 80,
   "id": "078ec280",
   "metadata": {},
   "outputs": [
    {
     "data": {
      "text/plain": [
       "[1, 2, 3]"
      ]
     },
     "execution_count": 80,
     "metadata": {},
     "output_type": "execute_result"
    }
   ],
   "source": [
    "list(b)"
   ]
  },
  {
   "cell_type": "code",
   "execution_count": 81,
   "id": "db76d435",
   "metadata": {},
   "outputs": [],
   "source": [
    "# Dictionary\n",
    "# Kulcs - érték"
   ]
  },
  {
   "cell_type": "code",
   "execution_count": 82,
   "id": "dec01347",
   "metadata": {},
   "outputs": [],
   "source": [
    "h = {'alma':'piros','dinnye':'sárga','cukkíni':'zöld'}"
   ]
  },
  {
   "cell_type": "code",
   "execution_count": 83,
   "id": "148a8bd4",
   "metadata": {},
   "outputs": [
    {
     "data": {
      "text/plain": [
       "'piros'"
      ]
     },
     "execution_count": 83,
     "metadata": {},
     "output_type": "execute_result"
    }
   ],
   "source": [
    "h['alma']"
   ]
  },
  {
   "cell_type": "code",
   "execution_count": 84,
   "id": "8d9bbfcb",
   "metadata": {},
   "outputs": [],
   "source": [
    "h['szilva']='lila'"
   ]
  },
  {
   "cell_type": "code",
   "execution_count": 85,
   "id": "ecf8198b",
   "metadata": {},
   "outputs": [
    {
     "data": {
      "text/plain": [
       "{'alma': 'piros', 'dinnye': 'sárga', 'cukkíni': 'zöld', 'szilva': 'lila'}"
      ]
     },
     "execution_count": 85,
     "metadata": {},
     "output_type": "execute_result"
    }
   ],
   "source": [
    "h"
   ]
  },
  {
   "cell_type": "code",
   "execution_count": 86,
   "id": "e053b887",
   "metadata": {},
   "outputs": [],
   "source": [
    "h[3]=True"
   ]
  },
  {
   "cell_type": "code",
   "execution_count": 87,
   "id": "71177669",
   "metadata": {},
   "outputs": [
    {
     "data": {
      "text/plain": [
       "{'alma': 'piros',\n",
       " 'dinnye': 'sárga',\n",
       " 'cukkíni': 'zöld',\n",
       " 'szilva': 'lila',\n",
       " 3: True}"
      ]
     },
     "execution_count": 87,
     "metadata": {},
     "output_type": "execute_result"
    }
   ],
   "source": [
    "h"
   ]
  },
  {
   "cell_type": "code",
   "execution_count": 88,
   "id": "7c43f5aa",
   "metadata": {},
   "outputs": [],
   "source": [
    "h['randomlista'] = [2, 3, 4]"
   ]
  },
  {
   "cell_type": "code",
   "execution_count": 89,
   "id": "55450ed8",
   "metadata": {},
   "outputs": [
    {
     "data": {
      "text/plain": [
       "{'alma': 'piros',\n",
       " 'dinnye': 'sárga',\n",
       " 'cukkíni': 'zöld',\n",
       " 'szilva': 'lila',\n",
       " 3: True,\n",
       " 'randomlista': [2, 3, 4]}"
      ]
     },
     "execution_count": 89,
     "metadata": {},
     "output_type": "execute_result"
    }
   ],
   "source": [
    "h"
   ]
  },
  {
   "cell_type": "code",
   "execution_count": 90,
   "id": "f59dcfdf",
   "metadata": {},
   "outputs": [],
   "source": [
    "a = [2, 3, 4, 5, 3.14, 42, 5]"
   ]
  },
  {
   "cell_type": "code",
   "execution_count": 91,
   "id": "6869f064",
   "metadata": {},
   "outputs": [
    {
     "name": "stdout",
     "output_type": "stream",
     "text": [
      "4\n",
      "9\n",
      "16\n",
      "25\n",
      "9.8596\n",
      "1764\n",
      "25\n"
     ]
    }
   ],
   "source": [
    "for x in a:\n",
    "    print(x**2)"
   ]
  },
  {
   "cell_type": "code",
   "execution_count": 92,
   "id": "39263803",
   "metadata": {},
   "outputs": [
    {
     "name": "stdout",
     "output_type": "stream",
     "text": [
      "4\n",
      "9\n",
      "16\n",
      "25\n",
      "9.8596\n",
      "1764\n",
      "25\n"
     ]
    }
   ],
   "source": [
    "for kiscica in a:\n",
    "    print(kiscica**2)"
   ]
  },
  {
   "cell_type": "code",
   "execution_count": 97,
   "id": "b9446305",
   "metadata": {},
   "outputs": [
    {
     "name": "stdout",
     "output_type": "stream",
     "text": [
      "[4]\n",
      "[4, 9]\n",
      "[4, 9, 16]\n",
      "[4, 9, 16, 25]\n",
      "[4, 9, 16, 25, 9.8596]\n",
      "[4, 9, 16, 25, 9.8596, 1764]\n",
      "[4, 9, 16, 25, 9.8596, 1764, 25]\n"
     ]
    }
   ],
   "source": [
    "negyzet = []\n",
    "for x in a:\n",
    "    negyzet.append(x**2)\n",
    "    print(negyzet)"
   ]
  },
  {
   "cell_type": "code",
   "execution_count": 95,
   "id": "5bc818b0",
   "metadata": {},
   "outputs": [
    {
     "data": {
      "text/plain": [
       "7"
      ]
     },
     "execution_count": 95,
     "metadata": {},
     "output_type": "execute_result"
    }
   ],
   "source": [
    "len(a)"
   ]
  },
  {
   "cell_type": "code",
   "execution_count": 100,
   "id": "0abf6514",
   "metadata": {},
   "outputs": [],
   "source": [
    "negyzet =[]\n",
    "for i in range(len(a)):\n",
    "    negyzet.append(a[i]**2)"
   ]
  },
  {
   "cell_type": "code",
   "execution_count": 112,
   "id": "75f8691d",
   "metadata": {},
   "outputs": [],
   "source": [
    "a=[2, 'alma', [3, 'paprika']]\n",
    "b = (2, [3, 6], 5)\n",
    "c={'alma':5,'narancs':[2,3]}\n",
    "d=[{2:3,4:8},('alma','paradicsom','krumpli'),'hagyma',['négy']]"
   ]
  },
  {
   "cell_type": "code",
   "execution_count": 102,
   "id": "52d83ba0",
   "metadata": {},
   "outputs": [
    {
     "data": {
      "text/plain": [
       "2"
      ]
     },
     "execution_count": 102,
     "metadata": {},
     "output_type": "execute_result"
    }
   ],
   "source": [
    "a[0]"
   ]
  },
  {
   "cell_type": "code",
   "execution_count": 103,
   "id": "73c74043",
   "metadata": {},
   "outputs": [
    {
     "data": {
      "text/plain": [
       "'paprika'"
      ]
     },
     "execution_count": 103,
     "metadata": {},
     "output_type": "execute_result"
    }
   ],
   "source": [
    "a[2][1]"
   ]
  },
  {
   "cell_type": "code",
   "execution_count": 104,
   "id": "6246d85f",
   "metadata": {},
   "outputs": [
    {
     "data": {
      "text/plain": [
       "3"
      ]
     },
     "execution_count": 104,
     "metadata": {},
     "output_type": "execute_result"
    }
   ],
   "source": [
    "a[-1][0]"
   ]
  },
  {
   "cell_type": "code",
   "execution_count": 105,
   "id": "99307e67",
   "metadata": {},
   "outputs": [
    {
     "data": {
      "text/plain": [
       "[3, 6]"
      ]
     },
     "execution_count": 105,
     "metadata": {},
     "output_type": "execute_result"
    }
   ],
   "source": [
    "b[-2]"
   ]
  },
  {
   "cell_type": "code",
   "execution_count": 107,
   "id": "9ec8b849",
   "metadata": {},
   "outputs": [
    {
     "data": {
      "text/plain": [
       "3"
      ]
     },
     "execution_count": 107,
     "metadata": {},
     "output_type": "execute_result"
    }
   ],
   "source": [
    "c[\"narancs\"][1]"
   ]
  },
  {
   "cell_type": "code",
   "execution_count": 108,
   "id": "c94e8fff",
   "metadata": {},
   "outputs": [
    {
     "data": {
      "text/plain": [
       "'hagyma'"
      ]
     },
     "execution_count": 108,
     "metadata": {},
     "output_type": "execute_result"
    }
   ],
   "source": [
    "d[2]"
   ]
  },
  {
   "cell_type": "code",
   "execution_count": 109,
   "id": "9d916a68",
   "metadata": {},
   "outputs": [
    {
     "data": {
      "text/plain": [
       "8"
      ]
     },
     "execution_count": 109,
     "metadata": {},
     "output_type": "execute_result"
    }
   ],
   "source": [
    "d[0][4]"
   ]
  },
  {
   "cell_type": "code",
   "execution_count": 110,
   "id": "e4ab1353",
   "metadata": {},
   "outputs": [
    {
     "data": {
      "text/plain": [
       "'négy'"
      ]
     },
     "execution_count": 110,
     "metadata": {},
     "output_type": "execute_result"
    }
   ],
   "source": [
    "d[-1][0]"
   ]
  },
  {
   "cell_type": "code",
   "execution_count": 113,
   "id": "8acae975",
   "metadata": {},
   "outputs": [
    {
     "ename": "TypeError",
     "evalue": "'tuple' object does not support item assignment",
     "output_type": "error",
     "traceback": [
      "\u001b[1;31m---------------------------------------------------------------------------\u001b[0m",
      "\u001b[1;31mTypeError\u001b[0m                                 Traceback (most recent call last)",
      "\u001b[1;32m<ipython-input-113-6cceaf40d813>\u001b[0m in \u001b[0;36m<module>\u001b[1;34m\u001b[0m\n\u001b[1;32m----> 1\u001b[1;33m \u001b[0mb\u001b[0m\u001b[1;33m[\u001b[0m\u001b[1;36m1\u001b[0m\u001b[1;33m]\u001b[0m\u001b[1;33m=\u001b[0m\u001b[1;36m4\u001b[0m\u001b[1;33m\u001b[0m\u001b[1;33m\u001b[0m\u001b[0m\n\u001b[0m",
      "\u001b[1;31mTypeError\u001b[0m: 'tuple' object does not support item assignment"
     ]
    }
   ],
   "source": [
    "b[1]=4"
   ]
  },
  {
   "cell_type": "code",
   "execution_count": 114,
   "id": "b10ee5a5",
   "metadata": {},
   "outputs": [],
   "source": [
    "b[1][0] = 5"
   ]
  },
  {
   "cell_type": "code",
   "execution_count": 115,
   "id": "47efbb6a",
   "metadata": {},
   "outputs": [
    {
     "ename": "TypeError",
     "evalue": "'tuple' object does not support item assignment",
     "output_type": "error",
     "traceback": [
      "\u001b[1;31m---------------------------------------------------------------------------\u001b[0m",
      "\u001b[1;31mTypeError\u001b[0m                                 Traceback (most recent call last)",
      "\u001b[1;32m<ipython-input-115-9f44e9bcbffb>\u001b[0m in \u001b[0;36m<module>\u001b[1;34m\u001b[0m\n\u001b[1;32m----> 1\u001b[1;33m \u001b[0md\u001b[0m\u001b[1;33m[\u001b[0m\u001b[1;36m1\u001b[0m\u001b[1;33m]\u001b[0m\u001b[1;33m[\u001b[0m\u001b[1;36m2\u001b[0m\u001b[1;33m]\u001b[0m\u001b[1;33m=\u001b[0m\u001b[1;36m0\u001b[0m\u001b[1;33m\u001b[0m\u001b[1;33m\u001b[0m\u001b[0m\n\u001b[0m",
      "\u001b[1;31mTypeError\u001b[0m: 'tuple' object does not support item assignment"
     ]
    }
   ],
   "source": [
    "d[1][2]=0"
   ]
  },
  {
   "cell_type": "code",
   "execution_count": 116,
   "id": "5847f510",
   "metadata": {},
   "outputs": [],
   "source": [
    "d[1]=3"
   ]
  },
  {
   "cell_type": "code",
   "execution_count": 117,
   "id": "e7ae0eb4",
   "metadata": {},
   "outputs": [],
   "source": [
    "c['narancs']=d[0]"
   ]
  },
  {
   "cell_type": "code",
   "execution_count": 118,
   "id": "6bae2e25",
   "metadata": {},
   "outputs": [
    {
     "data": {
      "text/plain": [
       "{'alma': 5, 'narancs': {2: 3, 4: 8}}"
      ]
     },
     "execution_count": 118,
     "metadata": {},
     "output_type": "execute_result"
    }
   ],
   "source": [
    "c"
   ]
  },
  {
   "cell_type": "code",
   "execution_count": 119,
   "id": "32286a18",
   "metadata": {},
   "outputs": [
    {
     "name": "stdout",
     "output_type": "stream",
     "text": [
      "Hello\n"
     ]
    }
   ],
   "source": [
    "print(\"Hello\")"
   ]
  },
  {
   "cell_type": "code",
   "execution_count": null,
   "id": "6e3351e4",
   "metadata": {},
   "outputs": [],
   "source": []
  }
 ],
 "metadata": {
  "kernelspec": {
   "display_name": "Python 3",
   "language": "python",
   "name": "python3"
  },
  "language_info": {
   "codemirror_mode": {
    "name": "ipython",
    "version": 3
   },
   "file_extension": ".py",
   "mimetype": "text/x-python",
   "name": "python",
   "nbconvert_exporter": "python",
   "pygments_lexer": "ipython3",
   "version": "3.8.8"
  }
 },
 "nbformat": 4,
 "nbformat_minor": 5
}
