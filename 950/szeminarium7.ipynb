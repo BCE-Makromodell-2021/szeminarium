{
 "cells": [
  {
   "cell_type": "code",
   "execution_count": 1,
   "id": "7c1169c0",
   "metadata": {},
   "outputs": [],
   "source": [
    "a = 5"
   ]
  },
  {
   "cell_type": "code",
   "execution_count": 2,
   "id": "ee9c0899",
   "metadata": {},
   "outputs": [
    {
     "name": "stdout",
     "output_type": "stream",
     "text": [
      "a pozitív\n"
     ]
    }
   ],
   "source": [
    "if a>0:\n",
    "    print('a pozitív')\n",
    "else:\n",
    "    print('a nem pozitív')"
   ]
  },
  {
   "cell_type": "code",
   "execution_count": 3,
   "id": "d0dab8bf",
   "metadata": {},
   "outputs": [],
   "source": [
    "b=0"
   ]
  },
  {
   "cell_type": "code",
   "execution_count": 4,
   "id": "2e9a59e6",
   "metadata": {},
   "outputs": [
    {
     "name": "stdout",
     "output_type": "stream",
     "text": [
      "b nulla\n"
     ]
    }
   ],
   "source": [
    "if b>0:\n",
    "    print('b pozitív')\n",
    "elif b==0:\n",
    "    print('b nulla')\n",
    "else:\n",
    "    print('b negatív')"
   ]
  },
  {
   "cell_type": "code",
   "execution_count": 5,
   "id": "855d836a",
   "metadata": {},
   "outputs": [],
   "source": [
    "c=5"
   ]
  },
  {
   "cell_type": "code",
   "execution_count": 7,
   "id": "590293a5",
   "metadata": {},
   "outputs": [
    {
     "name": "stdout",
     "output_type": "stream",
     "text": [
      "c nagyobb, mint 1\n"
     ]
    }
   ],
   "source": [
    "if c>10:\n",
    "    print('c nagyobb, mint 10')\n",
    "elif c>1:\n",
    "    print('c nagyobb, mint 1')\n",
    "elif c>3:\n",
    "    print('c nagyobb, mint 3')\n",
    "else:\n",
    "    print('c nem nagyobb, mint 1')"
   ]
  },
  {
   "cell_type": "code",
   "execution_count": 8,
   "id": "96e66e8b",
   "metadata": {},
   "outputs": [],
   "source": [
    "l = [1, 2, 3]"
   ]
  },
  {
   "cell_type": "code",
   "execution_count": 9,
   "id": "19db545a",
   "metadata": {},
   "outputs": [
    {
     "name": "stdout",
     "output_type": "stream",
     "text": [
      "1\n",
      "2\n",
      "3\n"
     ]
    }
   ],
   "source": [
    "for a in l:\n",
    "    print(a)"
   ]
  },
  {
   "cell_type": "code",
   "execution_count": 10,
   "id": "d17d5bf8",
   "metadata": {},
   "outputs": [
    {
     "name": "stdout",
     "output_type": "stream",
     "text": [
      "almaalma\n",
      "4\n",
      "6.28\n"
     ]
    }
   ],
   "source": [
    "for kiscica in ('alma', 2, 3.14):\n",
    "    print(2*kiscica)"
   ]
  },
  {
   "cell_type": "code",
   "execution_count": 11,
   "id": "53457df5",
   "metadata": {},
   "outputs": [
    {
     "name": "stdout",
     "output_type": "stream",
     "text": [
      "0\n",
      "1\n",
      "2\n",
      "3\n",
      "4\n",
      "5\n",
      "6\n",
      "7\n",
      "8\n",
      "9\n"
     ]
    }
   ],
   "source": [
    "# range\n",
    "for x in range(10):\n",
    "    print(x)"
   ]
  },
  {
   "cell_type": "code",
   "execution_count": 12,
   "id": "c977d50c",
   "metadata": {},
   "outputs": [],
   "source": [
    "a = [2, 4, 6, 7, 9, 10, 12]\n",
    "b = []"
   ]
  },
  {
   "cell_type": "code",
   "execution_count": 13,
   "id": "5a0e4255",
   "metadata": {},
   "outputs": [],
   "source": [
    "for i in range(len(a)-1):\n",
    "    b.append(a[i]+a[i+1])"
   ]
  },
  {
   "cell_type": "code",
   "execution_count": 14,
   "id": "d203c939",
   "metadata": {},
   "outputs": [
    {
     "data": {
      "text/plain": [
       "[6, 10, 13, 16, 19, 22]"
      ]
     },
     "execution_count": 14,
     "metadata": {},
     "output_type": "execute_result"
    }
   ],
   "source": [
    "b"
   ]
  },
  {
   "cell_type": "code",
   "execution_count": 15,
   "id": "346d2695",
   "metadata": {},
   "outputs": [],
   "source": [
    "d = {'alma':'piros','szilva':'lila'}"
   ]
  },
  {
   "cell_type": "code",
   "execution_count": 16,
   "id": "64a7049e",
   "metadata": {},
   "outputs": [
    {
     "name": "stdout",
     "output_type": "stream",
     "text": [
      "alma\n",
      "szilva\n"
     ]
    }
   ],
   "source": [
    "for kulcs in d.keys():\n",
    "    print(kulcs)"
   ]
  },
  {
   "cell_type": "code",
   "execution_count": 17,
   "id": "dc82cdda",
   "metadata": {},
   "outputs": [
    {
     "name": "stdout",
     "output_type": "stream",
     "text": [
      "piros\n",
      "lila\n"
     ]
    }
   ],
   "source": [
    "for ertek in d.values():\n",
    "    print(ertek)"
   ]
  },
  {
   "cell_type": "code",
   "execution_count": 18,
   "id": "78f20185",
   "metadata": {},
   "outputs": [
    {
     "name": "stdout",
     "output_type": "stream",
     "text": [
      "('alma', 'piros')\n",
      "('szilva', 'lila')\n"
     ]
    }
   ],
   "source": [
    "for pair in d.items():\n",
    "    print(pair)"
   ]
  },
  {
   "cell_type": "code",
   "execution_count": 19,
   "id": "1859be98",
   "metadata": {},
   "outputs": [
    {
     "name": "stdout",
     "output_type": "stream",
     "text": [
      "alma\n",
      "piros\n",
      "szilva\n",
      "lila\n"
     ]
    }
   ],
   "source": [
    "for kulcs, ertek in d.items():\n",
    "    print(kulcs)\n",
    "    print(ertek)"
   ]
  },
  {
   "cell_type": "code",
   "execution_count": 20,
   "id": "49028673",
   "metadata": {},
   "outputs": [
    {
     "name": "stdout",
     "output_type": "stream",
     "text": [
      "A(z) alma színe piros\n",
      "A(z) szilva színe lila\n"
     ]
    }
   ],
   "source": [
    "for kulcs, ertek in d.items():\n",
    "    print('A(z) {} színe {}'.format(kulcs, ertek))"
   ]
  },
  {
   "cell_type": "code",
   "execution_count": 21,
   "id": "d3ad2d7e",
   "metadata": {},
   "outputs": [],
   "source": [
    "# While"
   ]
  },
  {
   "cell_type": "code",
   "execution_count": 24,
   "id": "895ec828",
   "metadata": {},
   "outputs": [
    {
     "name": "stdout",
     "output_type": "stream",
     "text": [
      "Ez az 1. iteráció - még futok...\n",
      "Ez az 2. iteráció - még futok...\n",
      "Ez az 3. iteráció - még futok...\n",
      "Ez az 4. iteráció - még futok...\n",
      "Ez az 5. iteráció - még futok...\n",
      "Ez az 6. iteráció - még futok...\n",
      "Ez az 7. iteráció - még futok...\n",
      "Ez az 8. iteráció - még futok...\n",
      "Ez az 9. iteráció - még futok...\n",
      "Ez az 10. iteráció - még futok...\n"
     ]
    }
   ],
   "source": [
    "i = 0\n",
    "while i<10:\n",
    "    i = i+1\n",
    "    print('Ez az {}. iteráció - még futok...'.format(i))"
   ]
  },
  {
   "cell_type": "code",
   "execution_count": 25,
   "id": "2c35be7c",
   "metadata": {},
   "outputs": [
    {
     "data": {
      "text/plain": [
       "10"
      ]
     },
     "execution_count": 25,
     "metadata": {},
     "output_type": "execute_result"
    }
   ],
   "source": [
    "i"
   ]
  },
  {
   "cell_type": "code",
   "execution_count": 26,
   "id": "ba03845f",
   "metadata": {},
   "outputs": [
    {
     "ename": "KeyboardInterrupt",
     "evalue": "",
     "output_type": "error",
     "traceback": [
      "\u001b[1;31m---------------------------------------------------------------------------\u001b[0m",
      "\u001b[1;31mKeyboardInterrupt\u001b[0m                         Traceback (most recent call last)",
      "\u001b[1;32m<ipython-input-26-87e36629a22c>\u001b[0m in \u001b[0;36m<module>\u001b[1;34m\u001b[0m\n\u001b[0;32m      1\u001b[0m \u001b[0mi\u001b[0m\u001b[1;33m=\u001b[0m\u001b[1;36m0\u001b[0m\u001b[1;33m\u001b[0m\u001b[1;33m\u001b[0m\u001b[0m\n\u001b[0;32m      2\u001b[0m \u001b[1;32mwhile\u001b[0m \u001b[0mi\u001b[0m\u001b[1;33m<\u001b[0m\u001b[1;36m10\u001b[0m\u001b[1;33m:\u001b[0m\u001b[1;33m\u001b[0m\u001b[1;33m\u001b[0m\u001b[0m\n\u001b[1;32m----> 3\u001b[1;33m     \u001b[0mi\u001b[0m\u001b[1;33m=\u001b[0m\u001b[1;36m1\u001b[0m\u001b[1;33m\u001b[0m\u001b[1;33m\u001b[0m\u001b[0m\n\u001b[0m",
      "\u001b[1;31mKeyboardInterrupt\u001b[0m: "
     ]
    }
   ],
   "source": [
    "i=0\n",
    "while i<10:\n",
    "    i=1"
   ]
  },
  {
   "cell_type": "code",
   "execution_count": 27,
   "id": "adeaae95",
   "metadata": {},
   "outputs": [],
   "source": [
    "def negyzet(x):\n",
    "    y = x**2\n",
    "    return y"
   ]
  },
  {
   "cell_type": "code",
   "execution_count": 28,
   "id": "20025fa4",
   "metadata": {},
   "outputs": [
    {
     "data": {
      "text/plain": [
       "9"
      ]
     },
     "execution_count": 28,
     "metadata": {},
     "output_type": "execute_result"
    }
   ],
   "source": [
    "negyzet(3)"
   ]
  },
  {
   "cell_type": "code",
   "execution_count": 29,
   "id": "d3ac48c9",
   "metadata": {},
   "outputs": [
    {
     "data": {
      "text/plain": [
       "9.8596"
      ]
     },
     "execution_count": 29,
     "metadata": {},
     "output_type": "execute_result"
    }
   ],
   "source": [
    "negyzet(3.14)"
   ]
  },
  {
   "cell_type": "code",
   "execution_count": 30,
   "id": "dcf86bc6",
   "metadata": {},
   "outputs": [],
   "source": [
    "def negyzet2(x):\n",
    "    return x**2"
   ]
  },
  {
   "cell_type": "code",
   "execution_count": 32,
   "id": "54d0f98d",
   "metadata": {},
   "outputs": [
    {
     "data": {
      "text/plain": [
       "31.359999999999996"
      ]
     },
     "execution_count": 32,
     "metadata": {},
     "output_type": "execute_result"
    }
   ],
   "source": [
    "negyzet2(5.6)"
   ]
  },
  {
   "cell_type": "code",
   "execution_count": 33,
   "id": "8b9f2a98",
   "metadata": {},
   "outputs": [],
   "source": [
    "def osszead(a, b):\n",
    "    return a+b"
   ]
  },
  {
   "cell_type": "code",
   "execution_count": 34,
   "id": "5822abb0",
   "metadata": {},
   "outputs": [
    {
     "data": {
      "text/plain": [
       "5"
      ]
     },
     "execution_count": 34,
     "metadata": {},
     "output_type": "execute_result"
    }
   ],
   "source": [
    "osszead(2,3)"
   ]
  },
  {
   "cell_type": "code",
   "execution_count": 35,
   "id": "53c63e97",
   "metadata": {},
   "outputs": [
    {
     "data": {
      "text/plain": [
       "'almaszilva'"
      ]
     },
     "execution_count": 35,
     "metadata": {},
     "output_type": "execute_result"
    }
   ],
   "source": [
    "osszead('alma','szilva')"
   ]
  },
  {
   "cell_type": "code",
   "execution_count": 36,
   "id": "07eb16f7",
   "metadata": {},
   "outputs": [
    {
     "name": "stdout",
     "output_type": "stream",
     "text": [
      "0\n",
      "1\n",
      "2\n",
      "3\n",
      "4\n",
      "5\n",
      "6\n",
      "7\n",
      "8\n",
      "9\n",
      "10\n"
     ]
    }
   ],
   "source": [
    "for i in range(100):\n",
    "    if i>10:\n",
    "        break\n",
    "    else:\n",
    "        print(i)"
   ]
  },
  {
   "cell_type": "code",
   "execution_count": 37,
   "id": "10270e29",
   "metadata": {},
   "outputs": [],
   "source": [
    "for i in range(100):\n",
    "    if i>10:\n",
    "        break\n",
    "    else:\n",
    "        pass"
   ]
  },
  {
   "cell_type": "code",
   "execution_count": 38,
   "id": "e72b06a6",
   "metadata": {},
   "outputs": [
    {
     "data": {
      "text/plain": [
       "11"
      ]
     },
     "execution_count": 38,
     "metadata": {},
     "output_type": "execute_result"
    }
   ],
   "source": [
    "i"
   ]
  },
  {
   "cell_type": "code",
   "execution_count": 39,
   "id": "81263f57",
   "metadata": {},
   "outputs": [],
   "source": [
    "negyzetszamok = []"
   ]
  },
  {
   "cell_type": "code",
   "execution_count": 40,
   "id": "cb8041f4",
   "metadata": {},
   "outputs": [],
   "source": [
    "i = 1\n",
    "while len(negyzetszamok)<20:\n",
    "    if pow(i, 0.5)%1==0:\n",
    "        negyzetszamok.append(i)\n",
    "    else:\n",
    "        pass\n",
    "    i = i+1"
   ]
  },
  {
   "cell_type": "code",
   "execution_count": 41,
   "id": "f3c3583e",
   "metadata": {},
   "outputs": [
    {
     "data": {
      "text/plain": [
       "[1,\n",
       " 4,\n",
       " 9,\n",
       " 16,\n",
       " 25,\n",
       " 36,\n",
       " 49,\n",
       " 64,\n",
       " 81,\n",
       " 100,\n",
       " 121,\n",
       " 144,\n",
       " 169,\n",
       " 196,\n",
       " 225,\n",
       " 256,\n",
       " 289,\n",
       " 324,\n",
       " 361,\n",
       " 400]"
      ]
     },
     "execution_count": 41,
     "metadata": {},
     "output_type": "execute_result"
    }
   ],
   "source": [
    "negyzetszamok"
   ]
  },
  {
   "cell_type": "code",
   "execution_count": null,
   "id": "9d28eb7e",
   "metadata": {},
   "outputs": [],
   "source": []
  }
 ],
 "metadata": {
  "kernelspec": {
   "display_name": "Python 3",
   "language": "python",
   "name": "python3"
  },
  "language_info": {
   "codemirror_mode": {
    "name": "ipython",
    "version": 3
   },
   "file_extension": ".py",
   "mimetype": "text/x-python",
   "name": "python",
   "nbconvert_exporter": "python",
   "pygments_lexer": "ipython3",
   "version": "3.8.8"
  }
 },
 "nbformat": 4,
 "nbformat_minor": 5
}
